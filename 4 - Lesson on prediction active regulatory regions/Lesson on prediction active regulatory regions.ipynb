{
 "cells": [
  {
   "cell_type": "markdown",
   "metadata": {},
   "source": [
    "# Predicting active regulatory regions\n",
    "## Summary\n",
    "In this lesson we will practice with the preparation of the active regulatory regions dataset (retrieving data, one-hot encoding data, quick dataset analysis, preparation of the labels for training) and used the data for training a simple MLP and CNN."
   ]
  },
  {
   "cell_type": "markdown",
   "metadata": {},
   "source": [
    "## Code requirements\n",
    "We will use the python packages that are listed in the file [`requirements.txt` in the main directory of the course repository](https://github.com/LucaCappelletti94/Master-in-Bioinformatics-and-Functional-genomics/blob/master/requirements.txt). To automatically install every package, just run the following from within the root of the repository:\n",
    "```bash\n",
    "python -m pip install --upgrade -r requirements.txt\n",
    "```"
   ]
  },
  {
   "cell_type": "markdown",
   "metadata": {},
   "source": [
    "## The data\n",
    "We will use the [data from the DECRES library](https://github.com/yifeng-li/DECRES), a subset of the one used within the paper [Genome-wide prediction of cis-regulatory regions using supervised deep learning methods](https://bmcbioinformatics.biomedcentral.com/articles/10.1186/s12859-018-2187-1). The dataset is a lot smaller than the one used within the paper, so we will not expect to achieve similar results. We will use, in particular, the sanitized version present within the directory where you have found this notebook.\n",
    "\n",
    "Of the original cell lines, we consider only [GM12878](https://www.coriell.org/0/Sections/Search/Sample_Detail.aspx?Ref=NA12878&Product=CC).\n",
    "\n",
    "Before getting started, we will take notice of the contents of the dataset."
   ]
  },
  {
   "cell_type": "markdown",
   "metadata": {},
   "source": [
    "## The epigenomic data\n",
    "The [epigenomic](https://en.wikipedia.org/wiki/Epigenomics) data file `\"GM12878/data.csv\"` is a file containing a number of features on the genetic expression of the cells of this specific cell line."
   ]
  },
  {
   "cell_type": "code",
   "execution_count": 1,
   "metadata": {},
   "outputs": [],
   "source": [
    "import pandas as pd\n",
    "epigenomic = pd.read_csv(\n",
    "    \"GM12878/data.csv\", # The csv file path\n",
    "    index_col=0 # A parameter telling pandas to use the first column as index\n",
    ")"
   ]
  },
  {
   "cell_type": "markdown",
   "metadata": {},
   "source": [
    "Let's start by displaying the data and then we will try to answer the following questions:\n",
    "\n",
    "- There are any `NaN` values?\n",
    "- Any column is constant or has an extremely low variance?\n",
    "- Does any column strongly covariate with another?"
   ]
  },
  {
   "cell_type": "code",
   "execution_count": 2,
   "metadata": {},
   "outputs": [
    {
     "data": {
      "text/html": [
       "<div>\n",
       "<style scoped>\n",
       "    .dataframe tbody tr th:only-of-type {\n",
       "        vertical-align: middle;\n",
       "    }\n",
       "\n",
       "    .dataframe tbody tr th {\n",
       "        vertical-align: top;\n",
       "    }\n",
       "\n",
       "    .dataframe thead th {\n",
       "        text-align: right;\n",
       "    }\n",
       "</style>\n",
       "<table border=\"1\" class=\"dataframe\">\n",
       "  <thead>\n",
       "    <tr style=\"text-align: right;\">\n",
       "      <th></th>\n",
       "      <th>ATF2</th>\n",
       "      <th>ATF3</th>\n",
       "      <th>BATF</th>\n",
       "      <th>BCL11A</th>\n",
       "      <th>BCL3</th>\n",
       "      <th>BCLAF1</th>\n",
       "      <th>BHLHE40</th>\n",
       "      <th>BRCA1</th>\n",
       "      <th>C-FOS(FOS)</th>\n",
       "      <th>C-MYC(MYC)</th>\n",
       "      <th>...</th>\n",
       "      <th>USF1</th>\n",
       "      <th>USF2</th>\n",
       "      <th>WHIP(WRNIP1)</th>\n",
       "      <th>YY1</th>\n",
       "      <th>ZBTB33</th>\n",
       "      <th>ZEB1</th>\n",
       "      <th>ZNF143</th>\n",
       "      <th>ZNF274</th>\n",
       "      <th>ZNF384</th>\n",
       "      <th>ZZZ3</th>\n",
       "    </tr>\n",
       "  </thead>\n",
       "  <tbody>\n",
       "    <tr>\n",
       "      <th>0</th>\n",
       "      <td>0.00</td>\n",
       "      <td>0.00</td>\n",
       "      <td>7.46</td>\n",
       "      <td>3.67</td>\n",
       "      <td>16.20</td>\n",
       "      <td>20.02</td>\n",
       "      <td>13.52</td>\n",
       "      <td>1.00</td>\n",
       "      <td>2.31</td>\n",
       "      <td>3.82</td>\n",
       "      <td>...</td>\n",
       "      <td>10.44</td>\n",
       "      <td>18.48</td>\n",
       "      <td>1.78</td>\n",
       "      <td>0.15</td>\n",
       "      <td>4.94</td>\n",
       "      <td>15.50</td>\n",
       "      <td>4.21</td>\n",
       "      <td>2.11</td>\n",
       "      <td>0.00</td>\n",
       "      <td>3.45</td>\n",
       "    </tr>\n",
       "    <tr>\n",
       "      <th>1</th>\n",
       "      <td>0.00</td>\n",
       "      <td>0.00</td>\n",
       "      <td>3.07</td>\n",
       "      <td>3.54</td>\n",
       "      <td>1.17</td>\n",
       "      <td>1.06</td>\n",
       "      <td>26.92</td>\n",
       "      <td>1.52</td>\n",
       "      <td>1.70</td>\n",
       "      <td>0.27</td>\n",
       "      <td>...</td>\n",
       "      <td>1.94</td>\n",
       "      <td>7.31</td>\n",
       "      <td>1.01</td>\n",
       "      <td>0.00</td>\n",
       "      <td>3.33</td>\n",
       "      <td>5.17</td>\n",
       "      <td>3.01</td>\n",
       "      <td>1.31</td>\n",
       "      <td>0.00</td>\n",
       "      <td>2.64</td>\n",
       "    </tr>\n",
       "    <tr>\n",
       "      <th>2</th>\n",
       "      <td>0.00</td>\n",
       "      <td>0.00</td>\n",
       "      <td>3.45</td>\n",
       "      <td>0.86</td>\n",
       "      <td>2.21</td>\n",
       "      <td>3.46</td>\n",
       "      <td>39.33</td>\n",
       "      <td>3.70</td>\n",
       "      <td>1.63</td>\n",
       "      <td>2.01</td>\n",
       "      <td>...</td>\n",
       "      <td>7.00</td>\n",
       "      <td>8.70</td>\n",
       "      <td>7.60</td>\n",
       "      <td>0.24</td>\n",
       "      <td>11.26</td>\n",
       "      <td>11.26</td>\n",
       "      <td>4.16</td>\n",
       "      <td>3.91</td>\n",
       "      <td>0.09</td>\n",
       "      <td>1.64</td>\n",
       "    </tr>\n",
       "    <tr>\n",
       "      <th>3</th>\n",
       "      <td>0.00</td>\n",
       "      <td>0.51</td>\n",
       "      <td>8.03</td>\n",
       "      <td>1.77</td>\n",
       "      <td>3.75</td>\n",
       "      <td>4.51</td>\n",
       "      <td>31.47</td>\n",
       "      <td>2.58</td>\n",
       "      <td>2.55</td>\n",
       "      <td>2.01</td>\n",
       "      <td>...</td>\n",
       "      <td>8.98</td>\n",
       "      <td>6.21</td>\n",
       "      <td>9.10</td>\n",
       "      <td>0.14</td>\n",
       "      <td>2.63</td>\n",
       "      <td>5.84</td>\n",
       "      <td>1.59</td>\n",
       "      <td>3.34</td>\n",
       "      <td>0.00</td>\n",
       "      <td>0.76</td>\n",
       "    </tr>\n",
       "    <tr>\n",
       "      <th>4</th>\n",
       "      <td>0.00</td>\n",
       "      <td>2.52</td>\n",
       "      <td>2.89</td>\n",
       "      <td>1.15</td>\n",
       "      <td>1.06</td>\n",
       "      <td>2.39</td>\n",
       "      <td>28.08</td>\n",
       "      <td>4.48</td>\n",
       "      <td>2.32</td>\n",
       "      <td>0.83</td>\n",
       "      <td>...</td>\n",
       "      <td>7.33</td>\n",
       "      <td>5.49</td>\n",
       "      <td>11.24</td>\n",
       "      <td>0.05</td>\n",
       "      <td>5.33</td>\n",
       "      <td>7.61</td>\n",
       "      <td>2.12</td>\n",
       "      <td>3.83</td>\n",
       "      <td>0.00</td>\n",
       "      <td>1.04</td>\n",
       "    </tr>\n",
       "    <tr>\n",
       "      <th>5</th>\n",
       "      <td>0.00</td>\n",
       "      <td>0.84</td>\n",
       "      <td>11.28</td>\n",
       "      <td>0.71</td>\n",
       "      <td>2.66</td>\n",
       "      <td>4.74</td>\n",
       "      <td>20.36</td>\n",
       "      <td>3.44</td>\n",
       "      <td>3.45</td>\n",
       "      <td>1.80</td>\n",
       "      <td>...</td>\n",
       "      <td>7.20</td>\n",
       "      <td>7.53</td>\n",
       "      <td>16.18</td>\n",
       "      <td>0.31</td>\n",
       "      <td>15.83</td>\n",
       "      <td>7.16</td>\n",
       "      <td>9.07</td>\n",
       "      <td>4.01</td>\n",
       "      <td>0.14</td>\n",
       "      <td>2.12</td>\n",
       "    </tr>\n",
       "    <tr>\n",
       "      <th>6</th>\n",
       "      <td>0.00</td>\n",
       "      <td>0.00</td>\n",
       "      <td>2.05</td>\n",
       "      <td>1.72</td>\n",
       "      <td>0.87</td>\n",
       "      <td>0.79</td>\n",
       "      <td>47.21</td>\n",
       "      <td>1.29</td>\n",
       "      <td>1.04</td>\n",
       "      <td>1.03</td>\n",
       "      <td>...</td>\n",
       "      <td>2.41</td>\n",
       "      <td>2.56</td>\n",
       "      <td>1.29</td>\n",
       "      <td>0.71</td>\n",
       "      <td>1.34</td>\n",
       "      <td>4.87</td>\n",
       "      <td>2.95</td>\n",
       "      <td>1.06</td>\n",
       "      <td>0.00</td>\n",
       "      <td>1.02</td>\n",
       "    </tr>\n",
       "    <tr>\n",
       "      <th>7</th>\n",
       "      <td>0.38</td>\n",
       "      <td>2.08</td>\n",
       "      <td>21.09</td>\n",
       "      <td>0.25</td>\n",
       "      <td>40.49</td>\n",
       "      <td>21.86</td>\n",
       "      <td>22.20</td>\n",
       "      <td>5.28</td>\n",
       "      <td>0.56</td>\n",
       "      <td>3.09</td>\n",
       "      <td>...</td>\n",
       "      <td>8.65</td>\n",
       "      <td>9.45</td>\n",
       "      <td>9.02</td>\n",
       "      <td>0.31</td>\n",
       "      <td>1.88</td>\n",
       "      <td>6.31</td>\n",
       "      <td>1.25</td>\n",
       "      <td>3.47</td>\n",
       "      <td>4.33</td>\n",
       "      <td>1.25</td>\n",
       "    </tr>\n",
       "    <tr>\n",
       "      <th>8</th>\n",
       "      <td>8.49</td>\n",
       "      <td>4.15</td>\n",
       "      <td>2.41</td>\n",
       "      <td>0.23</td>\n",
       "      <td>2.06</td>\n",
       "      <td>2.52</td>\n",
       "      <td>4.44</td>\n",
       "      <td>3.01</td>\n",
       "      <td>0.65</td>\n",
       "      <td>1.84</td>\n",
       "      <td>...</td>\n",
       "      <td>1.53</td>\n",
       "      <td>2.27</td>\n",
       "      <td>1.47</td>\n",
       "      <td>0.39</td>\n",
       "      <td>0.60</td>\n",
       "      <td>1.41</td>\n",
       "      <td>2.14</td>\n",
       "      <td>2.10</td>\n",
       "      <td>0.53</td>\n",
       "      <td>0.55</td>\n",
       "    </tr>\n",
       "    <tr>\n",
       "      <th>9</th>\n",
       "      <td>0.00</td>\n",
       "      <td>2.83</td>\n",
       "      <td>4.08</td>\n",
       "      <td>0.78</td>\n",
       "      <td>4.42</td>\n",
       "      <td>2.64</td>\n",
       "      <td>13.53</td>\n",
       "      <td>4.13</td>\n",
       "      <td>0.40</td>\n",
       "      <td>0.23</td>\n",
       "      <td>...</td>\n",
       "      <td>2.18</td>\n",
       "      <td>1.51</td>\n",
       "      <td>3.50</td>\n",
       "      <td>0.33</td>\n",
       "      <td>0.51</td>\n",
       "      <td>2.71</td>\n",
       "      <td>0.18</td>\n",
       "      <td>0.29</td>\n",
       "      <td>0.12</td>\n",
       "      <td>0.31</td>\n",
       "    </tr>\n",
       "    <tr>\n",
       "      <th>10</th>\n",
       "      <td>0.00</td>\n",
       "      <td>0.76</td>\n",
       "      <td>4.80</td>\n",
       "      <td>0.21</td>\n",
       "      <td>2.17</td>\n",
       "      <td>2.93</td>\n",
       "      <td>5.80</td>\n",
       "      <td>2.07</td>\n",
       "      <td>1.02</td>\n",
       "      <td>1.40</td>\n",
       "      <td>...</td>\n",
       "      <td>2.06</td>\n",
       "      <td>3.65</td>\n",
       "      <td>4.30</td>\n",
       "      <td>0.45</td>\n",
       "      <td>0.66</td>\n",
       "      <td>5.09</td>\n",
       "      <td>1.24</td>\n",
       "      <td>2.63</td>\n",
       "      <td>0.09</td>\n",
       "      <td>1.00</td>\n",
       "    </tr>\n",
       "    <tr>\n",
       "      <th>11</th>\n",
       "      <td>0.00</td>\n",
       "      <td>0.60</td>\n",
       "      <td>6.07</td>\n",
       "      <td>0.22</td>\n",
       "      <td>3.63</td>\n",
       "      <td>2.77</td>\n",
       "      <td>4.79</td>\n",
       "      <td>3.00</td>\n",
       "      <td>0.75</td>\n",
       "      <td>0.60</td>\n",
       "      <td>...</td>\n",
       "      <td>1.90</td>\n",
       "      <td>2.45</td>\n",
       "      <td>1.54</td>\n",
       "      <td>0.18</td>\n",
       "      <td>0.95</td>\n",
       "      <td>4.37</td>\n",
       "      <td>0.74</td>\n",
       "      <td>1.44</td>\n",
       "      <td>0.00</td>\n",
       "      <td>0.46</td>\n",
       "    </tr>\n",
       "    <tr>\n",
       "      <th>12</th>\n",
       "      <td>0.00</td>\n",
       "      <td>0.45</td>\n",
       "      <td>2.51</td>\n",
       "      <td>1.74</td>\n",
       "      <td>0.75</td>\n",
       "      <td>0.66</td>\n",
       "      <td>23.53</td>\n",
       "      <td>2.53</td>\n",
       "      <td>1.06</td>\n",
       "      <td>1.97</td>\n",
       "      <td>...</td>\n",
       "      <td>1.50</td>\n",
       "      <td>2.59</td>\n",
       "      <td>2.33</td>\n",
       "      <td>0.45</td>\n",
       "      <td>2.96</td>\n",
       "      <td>1.78</td>\n",
       "      <td>4.12</td>\n",
       "      <td>0.72</td>\n",
       "      <td>0.14</td>\n",
       "      <td>3.73</td>\n",
       "    </tr>\n",
       "    <tr>\n",
       "      <th>13</th>\n",
       "      <td>0.00</td>\n",
       "      <td>3.35</td>\n",
       "      <td>6.88</td>\n",
       "      <td>0.00</td>\n",
       "      <td>7.27</td>\n",
       "      <td>4.99</td>\n",
       "      <td>13.97</td>\n",
       "      <td>2.80</td>\n",
       "      <td>2.21</td>\n",
       "      <td>2.46</td>\n",
       "      <td>...</td>\n",
       "      <td>5.47</td>\n",
       "      <td>5.51</td>\n",
       "      <td>4.00</td>\n",
       "      <td>0.58</td>\n",
       "      <td>1.42</td>\n",
       "      <td>6.84</td>\n",
       "      <td>2.14</td>\n",
       "      <td>4.93</td>\n",
       "      <td>0.91</td>\n",
       "      <td>1.05</td>\n",
       "    </tr>\n",
       "    <tr>\n",
       "      <th>14</th>\n",
       "      <td>0.00</td>\n",
       "      <td>0.00</td>\n",
       "      <td>8.57</td>\n",
       "      <td>1.05</td>\n",
       "      <td>19.65</td>\n",
       "      <td>6.23</td>\n",
       "      <td>11.69</td>\n",
       "      <td>3.80</td>\n",
       "      <td>0.30</td>\n",
       "      <td>0.59</td>\n",
       "      <td>...</td>\n",
       "      <td>1.03</td>\n",
       "      <td>7.71</td>\n",
       "      <td>1.59</td>\n",
       "      <td>0.07</td>\n",
       "      <td>0.49</td>\n",
       "      <td>8.12</td>\n",
       "      <td>0.25</td>\n",
       "      <td>0.80</td>\n",
       "      <td>0.43</td>\n",
       "      <td>1.05</td>\n",
       "    </tr>\n",
       "    <tr>\n",
       "      <th>15</th>\n",
       "      <td>0.36</td>\n",
       "      <td>0.12</td>\n",
       "      <td>4.33</td>\n",
       "      <td>2.47</td>\n",
       "      <td>1.91</td>\n",
       "      <td>2.18</td>\n",
       "      <td>12.53</td>\n",
       "      <td>2.56</td>\n",
       "      <td>0.90</td>\n",
       "      <td>1.66</td>\n",
       "      <td>...</td>\n",
       "      <td>5.56</td>\n",
       "      <td>3.99</td>\n",
       "      <td>13.44</td>\n",
       "      <td>0.05</td>\n",
       "      <td>40.61</td>\n",
       "      <td>3.07</td>\n",
       "      <td>13.11</td>\n",
       "      <td>3.81</td>\n",
       "      <td>0.52</td>\n",
       "      <td>0.51</td>\n",
       "    </tr>\n",
       "    <tr>\n",
       "      <th>16</th>\n",
       "      <td>6.63</td>\n",
       "      <td>0.00</td>\n",
       "      <td>7.29</td>\n",
       "      <td>0.62</td>\n",
       "      <td>4.05</td>\n",
       "      <td>2.97</td>\n",
       "      <td>4.72</td>\n",
       "      <td>2.28</td>\n",
       "      <td>0.92</td>\n",
       "      <td>2.10</td>\n",
       "      <td>...</td>\n",
       "      <td>2.34</td>\n",
       "      <td>9.66</td>\n",
       "      <td>4.32</td>\n",
       "      <td>0.28</td>\n",
       "      <td>7.51</td>\n",
       "      <td>5.40</td>\n",
       "      <td>4.92</td>\n",
       "      <td>2.97</td>\n",
       "      <td>0.07</td>\n",
       "      <td>1.79</td>\n",
       "    </tr>\n",
       "    <tr>\n",
       "      <th>17</th>\n",
       "      <td>8.97</td>\n",
       "      <td>0.00</td>\n",
       "      <td>3.63</td>\n",
       "      <td>1.07</td>\n",
       "      <td>1.92</td>\n",
       "      <td>1.81</td>\n",
       "      <td>27.02</td>\n",
       "      <td>7.14</td>\n",
       "      <td>0.44</td>\n",
       "      <td>0.86</td>\n",
       "      <td>...</td>\n",
       "      <td>2.73</td>\n",
       "      <td>1.44</td>\n",
       "      <td>8.37</td>\n",
       "      <td>0.18</td>\n",
       "      <td>10.74</td>\n",
       "      <td>1.11</td>\n",
       "      <td>5.51</td>\n",
       "      <td>3.90</td>\n",
       "      <td>0.13</td>\n",
       "      <td>0.68</td>\n",
       "    </tr>\n",
       "    <tr>\n",
       "      <th>18</th>\n",
       "      <td>0.94</td>\n",
       "      <td>0.00</td>\n",
       "      <td>5.56</td>\n",
       "      <td>0.25</td>\n",
       "      <td>1.64</td>\n",
       "      <td>2.70</td>\n",
       "      <td>11.85</td>\n",
       "      <td>2.77</td>\n",
       "      <td>0.28</td>\n",
       "      <td>2.01</td>\n",
       "      <td>...</td>\n",
       "      <td>1.65</td>\n",
       "      <td>7.24</td>\n",
       "      <td>2.11</td>\n",
       "      <td>0.21</td>\n",
       "      <td>1.88</td>\n",
       "      <td>5.32</td>\n",
       "      <td>1.52</td>\n",
       "      <td>1.62</td>\n",
       "      <td>0.00</td>\n",
       "      <td>2.01</td>\n",
       "    </tr>\n",
       "    <tr>\n",
       "      <th>19</th>\n",
       "      <td>0.00</td>\n",
       "      <td>1.29</td>\n",
       "      <td>6.99</td>\n",
       "      <td>1.51</td>\n",
       "      <td>4.22</td>\n",
       "      <td>8.31</td>\n",
       "      <td>10.88</td>\n",
       "      <td>2.17</td>\n",
       "      <td>0.90</td>\n",
       "      <td>4.75</td>\n",
       "      <td>...</td>\n",
       "      <td>0.83</td>\n",
       "      <td>5.57</td>\n",
       "      <td>0.73</td>\n",
       "      <td>0.32</td>\n",
       "      <td>0.37</td>\n",
       "      <td>11.73</td>\n",
       "      <td>1.39</td>\n",
       "      <td>0.94</td>\n",
       "      <td>0.60</td>\n",
       "      <td>0.96</td>\n",
       "    </tr>\n",
       "    <tr>\n",
       "      <th>20</th>\n",
       "      <td>0.00</td>\n",
       "      <td>0.68</td>\n",
       "      <td>17.11</td>\n",
       "      <td>1.45</td>\n",
       "      <td>33.96</td>\n",
       "      <td>16.01</td>\n",
       "      <td>23.04</td>\n",
       "      <td>5.88</td>\n",
       "      <td>1.22</td>\n",
       "      <td>2.03</td>\n",
       "      <td>...</td>\n",
       "      <td>10.76</td>\n",
       "      <td>14.44</td>\n",
       "      <td>5.98</td>\n",
       "      <td>0.11</td>\n",
       "      <td>2.35</td>\n",
       "      <td>14.85</td>\n",
       "      <td>1.16</td>\n",
       "      <td>4.76</td>\n",
       "      <td>0.12</td>\n",
       "      <td>1.12</td>\n",
       "    </tr>\n",
       "    <tr>\n",
       "      <th>21</th>\n",
       "      <td>6.51</td>\n",
       "      <td>0.00</td>\n",
       "      <td>6.40</td>\n",
       "      <td>1.12</td>\n",
       "      <td>5.50</td>\n",
       "      <td>3.98</td>\n",
       "      <td>14.05</td>\n",
       "      <td>4.34</td>\n",
       "      <td>2.07</td>\n",
       "      <td>0.57</td>\n",
       "      <td>...</td>\n",
       "      <td>5.25</td>\n",
       "      <td>3.72</td>\n",
       "      <td>6.69</td>\n",
       "      <td>0.35</td>\n",
       "      <td>2.79</td>\n",
       "      <td>1.92</td>\n",
       "      <td>0.75</td>\n",
       "      <td>4.75</td>\n",
       "      <td>0.19</td>\n",
       "      <td>0.60</td>\n",
       "    </tr>\n",
       "    <tr>\n",
       "      <th>22</th>\n",
       "      <td>0.00</td>\n",
       "      <td>10.36</td>\n",
       "      <td>1.49</td>\n",
       "      <td>0.67</td>\n",
       "      <td>2.48</td>\n",
       "      <td>2.21</td>\n",
       "      <td>4.37</td>\n",
       "      <td>2.12</td>\n",
       "      <td>0.87</td>\n",
       "      <td>0.48</td>\n",
       "      <td>...</td>\n",
       "      <td>2.45</td>\n",
       "      <td>1.62</td>\n",
       "      <td>3.98</td>\n",
       "      <td>0.69</td>\n",
       "      <td>1.48</td>\n",
       "      <td>2.11</td>\n",
       "      <td>0.63</td>\n",
       "      <td>4.33</td>\n",
       "      <td>1.94</td>\n",
       "      <td>2.11</td>\n",
       "    </tr>\n",
       "    <tr>\n",
       "      <th>23</th>\n",
       "      <td>0.00</td>\n",
       "      <td>5.31</td>\n",
       "      <td>2.88</td>\n",
       "      <td>1.49</td>\n",
       "      <td>2.34</td>\n",
       "      <td>3.35</td>\n",
       "      <td>5.75</td>\n",
       "      <td>1.99</td>\n",
       "      <td>0.67</td>\n",
       "      <td>1.63</td>\n",
       "      <td>...</td>\n",
       "      <td>2.12</td>\n",
       "      <td>1.74</td>\n",
       "      <td>6.60</td>\n",
       "      <td>0.10</td>\n",
       "      <td>1.36</td>\n",
       "      <td>3.44</td>\n",
       "      <td>0.61</td>\n",
       "      <td>1.75</td>\n",
       "      <td>0.36</td>\n",
       "      <td>0.64</td>\n",
       "    </tr>\n",
       "    <tr>\n",
       "      <th>24</th>\n",
       "      <td>0.13</td>\n",
       "      <td>1.52</td>\n",
       "      <td>4.38</td>\n",
       "      <td>1.18</td>\n",
       "      <td>10.02</td>\n",
       "      <td>4.66</td>\n",
       "      <td>8.34</td>\n",
       "      <td>2.54</td>\n",
       "      <td>1.26</td>\n",
       "      <td>1.64</td>\n",
       "      <td>...</td>\n",
       "      <td>2.66</td>\n",
       "      <td>3.12</td>\n",
       "      <td>8.01</td>\n",
       "      <td>0.01</td>\n",
       "      <td>1.56</td>\n",
       "      <td>3.74</td>\n",
       "      <td>1.25</td>\n",
       "      <td>2.75</td>\n",
       "      <td>0.26</td>\n",
       "      <td>0.98</td>\n",
       "    </tr>\n",
       "    <tr>\n",
       "      <th>25</th>\n",
       "      <td>0.00</td>\n",
       "      <td>0.30</td>\n",
       "      <td>5.05</td>\n",
       "      <td>1.41</td>\n",
       "      <td>7.64</td>\n",
       "      <td>4.59</td>\n",
       "      <td>21.76</td>\n",
       "      <td>4.54</td>\n",
       "      <td>2.08</td>\n",
       "      <td>1.91</td>\n",
       "      <td>...</td>\n",
       "      <td>3.40</td>\n",
       "      <td>4.82</td>\n",
       "      <td>4.29</td>\n",
       "      <td>0.33</td>\n",
       "      <td>1.52</td>\n",
       "      <td>4.94</td>\n",
       "      <td>0.83</td>\n",
       "      <td>2.54</td>\n",
       "      <td>0.34</td>\n",
       "      <td>1.82</td>\n",
       "    </tr>\n",
       "    <tr>\n",
       "      <th>26</th>\n",
       "      <td>0.63</td>\n",
       "      <td>9.35</td>\n",
       "      <td>2.33</td>\n",
       "      <td>0.23</td>\n",
       "      <td>2.00</td>\n",
       "      <td>1.12</td>\n",
       "      <td>5.58</td>\n",
       "      <td>2.29</td>\n",
       "      <td>0.93</td>\n",
       "      <td>0.52</td>\n",
       "      <td>...</td>\n",
       "      <td>2.95</td>\n",
       "      <td>1.28</td>\n",
       "      <td>14.61</td>\n",
       "      <td>0.33</td>\n",
       "      <td>0.75</td>\n",
       "      <td>1.40</td>\n",
       "      <td>0.36</td>\n",
       "      <td>2.84</td>\n",
       "      <td>1.23</td>\n",
       "      <td>0.88</td>\n",
       "    </tr>\n",
       "    <tr>\n",
       "      <th>27</th>\n",
       "      <td>0.00</td>\n",
       "      <td>3.36</td>\n",
       "      <td>8.44</td>\n",
       "      <td>1.10</td>\n",
       "      <td>4.87</td>\n",
       "      <td>6.24</td>\n",
       "      <td>21.47</td>\n",
       "      <td>6.25</td>\n",
       "      <td>0.95</td>\n",
       "      <td>1.33</td>\n",
       "      <td>...</td>\n",
       "      <td>3.77</td>\n",
       "      <td>4.70</td>\n",
       "      <td>11.12</td>\n",
       "      <td>0.09</td>\n",
       "      <td>7.66</td>\n",
       "      <td>4.16</td>\n",
       "      <td>5.69</td>\n",
       "      <td>2.36</td>\n",
       "      <td>0.72</td>\n",
       "      <td>1.01</td>\n",
       "    </tr>\n",
       "    <tr>\n",
       "      <th>28</th>\n",
       "      <td>0.00</td>\n",
       "      <td>0.00</td>\n",
       "      <td>4.56</td>\n",
       "      <td>0.36</td>\n",
       "      <td>5.38</td>\n",
       "      <td>5.66</td>\n",
       "      <td>10.81</td>\n",
       "      <td>2.76</td>\n",
       "      <td>0.45</td>\n",
       "      <td>0.84</td>\n",
       "      <td>...</td>\n",
       "      <td>4.38</td>\n",
       "      <td>7.05</td>\n",
       "      <td>2.94</td>\n",
       "      <td>0.46</td>\n",
       "      <td>2.02</td>\n",
       "      <td>3.18</td>\n",
       "      <td>0.18</td>\n",
       "      <td>2.92</td>\n",
       "      <td>0.30</td>\n",
       "      <td>1.29</td>\n",
       "    </tr>\n",
       "    <tr>\n",
       "      <th>29</th>\n",
       "      <td>0.00</td>\n",
       "      <td>0.00</td>\n",
       "      <td>0.12</td>\n",
       "      <td>2.00</td>\n",
       "      <td>0.27</td>\n",
       "      <td>1.72</td>\n",
       "      <td>2.69</td>\n",
       "      <td>0.96</td>\n",
       "      <td>1.64</td>\n",
       "      <td>0.99</td>\n",
       "      <td>...</td>\n",
       "      <td>0.49</td>\n",
       "      <td>1.35</td>\n",
       "      <td>0.00</td>\n",
       "      <td>1.90</td>\n",
       "      <td>0.00</td>\n",
       "      <td>2.78</td>\n",
       "      <td>1.81</td>\n",
       "      <td>0.52</td>\n",
       "      <td>0.00</td>\n",
       "      <td>1.09</td>\n",
       "    </tr>\n",
       "    <tr>\n",
       "      <th>...</th>\n",
       "      <td>...</td>\n",
       "      <td>...</td>\n",
       "      <td>...</td>\n",
       "      <td>...</td>\n",
       "      <td>...</td>\n",
       "      <td>...</td>\n",
       "      <td>...</td>\n",
       "      <td>...</td>\n",
       "      <td>...</td>\n",
       "      <td>...</td>\n",
       "      <td>...</td>\n",
       "      <td>...</td>\n",
       "      <td>...</td>\n",
       "      <td>...</td>\n",
       "      <td>...</td>\n",
       "      <td>...</td>\n",
       "      <td>...</td>\n",
       "      <td>...</td>\n",
       "      <td>...</td>\n",
       "      <td>...</td>\n",
       "      <td>...</td>\n",
       "    </tr>\n",
       "    <tr>\n",
       "      <th>20848</th>\n",
       "      <td>0.00</td>\n",
       "      <td>0.00</td>\n",
       "      <td>0.88</td>\n",
       "      <td>0.00</td>\n",
       "      <td>0.20</td>\n",
       "      <td>0.04</td>\n",
       "      <td>0.37</td>\n",
       "      <td>1.49</td>\n",
       "      <td>0.74</td>\n",
       "      <td>0.63</td>\n",
       "      <td>...</td>\n",
       "      <td>0.45</td>\n",
       "      <td>0.00</td>\n",
       "      <td>0.36</td>\n",
       "      <td>0.21</td>\n",
       "      <td>0.65</td>\n",
       "      <td>0.01</td>\n",
       "      <td>0.12</td>\n",
       "      <td>0.69</td>\n",
       "      <td>0.47</td>\n",
       "      <td>0.26</td>\n",
       "    </tr>\n",
       "    <tr>\n",
       "      <th>20849</th>\n",
       "      <td>0.00</td>\n",
       "      <td>0.00</td>\n",
       "      <td>0.00</td>\n",
       "      <td>0.00</td>\n",
       "      <td>0.00</td>\n",
       "      <td>0.36</td>\n",
       "      <td>0.00</td>\n",
       "      <td>0.24</td>\n",
       "      <td>0.30</td>\n",
       "      <td>0.00</td>\n",
       "      <td>...</td>\n",
       "      <td>0.61</td>\n",
       "      <td>0.00</td>\n",
       "      <td>0.31</td>\n",
       "      <td>0.30</td>\n",
       "      <td>0.43</td>\n",
       "      <td>0.16</td>\n",
       "      <td>0.46</td>\n",
       "      <td>0.31</td>\n",
       "      <td>0.51</td>\n",
       "      <td>0.00</td>\n",
       "    </tr>\n",
       "    <tr>\n",
       "      <th>20850</th>\n",
       "      <td>0.30</td>\n",
       "      <td>0.00</td>\n",
       "      <td>0.60</td>\n",
       "      <td>0.00</td>\n",
       "      <td>0.00</td>\n",
       "      <td>0.84</td>\n",
       "      <td>0.48</td>\n",
       "      <td>1.16</td>\n",
       "      <td>1.14</td>\n",
       "      <td>0.54</td>\n",
       "      <td>...</td>\n",
       "      <td>1.24</td>\n",
       "      <td>0.88</td>\n",
       "      <td>0.98</td>\n",
       "      <td>0.41</td>\n",
       "      <td>0.00</td>\n",
       "      <td>0.48</td>\n",
       "      <td>0.45</td>\n",
       "      <td>0.57</td>\n",
       "      <td>0.79</td>\n",
       "      <td>0.80</td>\n",
       "    </tr>\n",
       "    <tr>\n",
       "      <th>20851</th>\n",
       "      <td>0.00</td>\n",
       "      <td>3.91</td>\n",
       "      <td>0.57</td>\n",
       "      <td>0.00</td>\n",
       "      <td>0.43</td>\n",
       "      <td>0.94</td>\n",
       "      <td>0.73</td>\n",
       "      <td>1.15</td>\n",
       "      <td>0.40</td>\n",
       "      <td>0.57</td>\n",
       "      <td>...</td>\n",
       "      <td>0.11</td>\n",
       "      <td>0.09</td>\n",
       "      <td>0.76</td>\n",
       "      <td>0.14</td>\n",
       "      <td>0.00</td>\n",
       "      <td>0.90</td>\n",
       "      <td>0.46</td>\n",
       "      <td>0.07</td>\n",
       "      <td>0.00</td>\n",
       "      <td>0.39</td>\n",
       "    </tr>\n",
       "    <tr>\n",
       "      <th>20852</th>\n",
       "      <td>0.00</td>\n",
       "      <td>0.00</td>\n",
       "      <td>0.53</td>\n",
       "      <td>0.00</td>\n",
       "      <td>1.13</td>\n",
       "      <td>0.89</td>\n",
       "      <td>1.23</td>\n",
       "      <td>0.41</td>\n",
       "      <td>0.65</td>\n",
       "      <td>0.81</td>\n",
       "      <td>...</td>\n",
       "      <td>0.31</td>\n",
       "      <td>0.15</td>\n",
       "      <td>0.58</td>\n",
       "      <td>0.71</td>\n",
       "      <td>0.31</td>\n",
       "      <td>0.65</td>\n",
       "      <td>1.96</td>\n",
       "      <td>0.20</td>\n",
       "      <td>1.02</td>\n",
       "      <td>1.91</td>\n",
       "    </tr>\n",
       "    <tr>\n",
       "      <th>20853</th>\n",
       "      <td>0.00</td>\n",
       "      <td>0.00</td>\n",
       "      <td>1.02</td>\n",
       "      <td>1.15</td>\n",
       "      <td>0.81</td>\n",
       "      <td>0.22</td>\n",
       "      <td>0.42</td>\n",
       "      <td>1.14</td>\n",
       "      <td>0.28</td>\n",
       "      <td>0.26</td>\n",
       "      <td>...</td>\n",
       "      <td>1.09</td>\n",
       "      <td>0.19</td>\n",
       "      <td>0.79</td>\n",
       "      <td>0.00</td>\n",
       "      <td>1.07</td>\n",
       "      <td>0.56</td>\n",
       "      <td>0.95</td>\n",
       "      <td>0.57</td>\n",
       "      <td>1.52</td>\n",
       "      <td>0.12</td>\n",
       "    </tr>\n",
       "    <tr>\n",
       "      <th>20854</th>\n",
       "      <td>0.00</td>\n",
       "      <td>0.00</td>\n",
       "      <td>0.45</td>\n",
       "      <td>0.77</td>\n",
       "      <td>0.00</td>\n",
       "      <td>1.18</td>\n",
       "      <td>0.53</td>\n",
       "      <td>0.99</td>\n",
       "      <td>0.90</td>\n",
       "      <td>1.59</td>\n",
       "      <td>...</td>\n",
       "      <td>0.51</td>\n",
       "      <td>1.61</td>\n",
       "      <td>0.89</td>\n",
       "      <td>0.13</td>\n",
       "      <td>1.84</td>\n",
       "      <td>1.69</td>\n",
       "      <td>0.71</td>\n",
       "      <td>0.78</td>\n",
       "      <td>0.10</td>\n",
       "      <td>0.41</td>\n",
       "    </tr>\n",
       "    <tr>\n",
       "      <th>20855</th>\n",
       "      <td>0.00</td>\n",
       "      <td>0.00</td>\n",
       "      <td>0.47</td>\n",
       "      <td>0.00</td>\n",
       "      <td>0.91</td>\n",
       "      <td>0.49</td>\n",
       "      <td>0.81</td>\n",
       "      <td>0.73</td>\n",
       "      <td>0.01</td>\n",
       "      <td>0.17</td>\n",
       "      <td>...</td>\n",
       "      <td>0.70</td>\n",
       "      <td>0.93</td>\n",
       "      <td>0.37</td>\n",
       "      <td>0.07</td>\n",
       "      <td>0.49</td>\n",
       "      <td>0.62</td>\n",
       "      <td>1.80</td>\n",
       "      <td>1.19</td>\n",
       "      <td>1.63</td>\n",
       "      <td>0.70</td>\n",
       "    </tr>\n",
       "    <tr>\n",
       "      <th>20856</th>\n",
       "      <td>0.00</td>\n",
       "      <td>0.00</td>\n",
       "      <td>0.72</td>\n",
       "      <td>1.68</td>\n",
       "      <td>0.17</td>\n",
       "      <td>0.56</td>\n",
       "      <td>0.73</td>\n",
       "      <td>0.66</td>\n",
       "      <td>0.13</td>\n",
       "      <td>0.69</td>\n",
       "      <td>...</td>\n",
       "      <td>0.44</td>\n",
       "      <td>0.97</td>\n",
       "      <td>1.02</td>\n",
       "      <td>0.26</td>\n",
       "      <td>0.00</td>\n",
       "      <td>0.56</td>\n",
       "      <td>0.32</td>\n",
       "      <td>0.00</td>\n",
       "      <td>0.32</td>\n",
       "      <td>1.06</td>\n",
       "    </tr>\n",
       "    <tr>\n",
       "      <th>20857</th>\n",
       "      <td>0.00</td>\n",
       "      <td>0.00</td>\n",
       "      <td>0.32</td>\n",
       "      <td>0.32</td>\n",
       "      <td>0.54</td>\n",
       "      <td>0.79</td>\n",
       "      <td>0.38</td>\n",
       "      <td>1.27</td>\n",
       "      <td>1.81</td>\n",
       "      <td>1.20</td>\n",
       "      <td>...</td>\n",
       "      <td>1.07</td>\n",
       "      <td>0.39</td>\n",
       "      <td>2.12</td>\n",
       "      <td>0.23</td>\n",
       "      <td>0.35</td>\n",
       "      <td>0.28</td>\n",
       "      <td>0.00</td>\n",
       "      <td>0.00</td>\n",
       "      <td>0.00</td>\n",
       "      <td>0.45</td>\n",
       "    </tr>\n",
       "    <tr>\n",
       "      <th>20858</th>\n",
       "      <td>0.00</td>\n",
       "      <td>0.00</td>\n",
       "      <td>0.46</td>\n",
       "      <td>0.06</td>\n",
       "      <td>0.01</td>\n",
       "      <td>0.06</td>\n",
       "      <td>0.54</td>\n",
       "      <td>0.88</td>\n",
       "      <td>0.38</td>\n",
       "      <td>0.77</td>\n",
       "      <td>...</td>\n",
       "      <td>0.28</td>\n",
       "      <td>1.09</td>\n",
       "      <td>1.04</td>\n",
       "      <td>0.17</td>\n",
       "      <td>1.33</td>\n",
       "      <td>0.84</td>\n",
       "      <td>0.09</td>\n",
       "      <td>1.08</td>\n",
       "      <td>0.00</td>\n",
       "      <td>0.24</td>\n",
       "    </tr>\n",
       "    <tr>\n",
       "      <th>20859</th>\n",
       "      <td>1.59</td>\n",
       "      <td>0.00</td>\n",
       "      <td>0.92</td>\n",
       "      <td>1.21</td>\n",
       "      <td>0.71</td>\n",
       "      <td>1.18</td>\n",
       "      <td>0.70</td>\n",
       "      <td>1.07</td>\n",
       "      <td>1.69</td>\n",
       "      <td>0.28</td>\n",
       "      <td>...</td>\n",
       "      <td>0.88</td>\n",
       "      <td>0.30</td>\n",
       "      <td>0.14</td>\n",
       "      <td>0.12</td>\n",
       "      <td>0.00</td>\n",
       "      <td>0.40</td>\n",
       "      <td>0.63</td>\n",
       "      <td>0.34</td>\n",
       "      <td>0.48</td>\n",
       "      <td>0.20</td>\n",
       "    </tr>\n",
       "    <tr>\n",
       "      <th>20860</th>\n",
       "      <td>0.00</td>\n",
       "      <td>0.00</td>\n",
       "      <td>0.23</td>\n",
       "      <td>0.72</td>\n",
       "      <td>0.46</td>\n",
       "      <td>0.55</td>\n",
       "      <td>0.59</td>\n",
       "      <td>1.17</td>\n",
       "      <td>0.15</td>\n",
       "      <td>0.19</td>\n",
       "      <td>...</td>\n",
       "      <td>0.32</td>\n",
       "      <td>1.52</td>\n",
       "      <td>0.47</td>\n",
       "      <td>0.64</td>\n",
       "      <td>1.01</td>\n",
       "      <td>0.00</td>\n",
       "      <td>1.22</td>\n",
       "      <td>0.58</td>\n",
       "      <td>0.72</td>\n",
       "      <td>0.00</td>\n",
       "    </tr>\n",
       "    <tr>\n",
       "      <th>20861</th>\n",
       "      <td>0.00</td>\n",
       "      <td>0.00</td>\n",
       "      <td>0.04</td>\n",
       "      <td>0.00</td>\n",
       "      <td>0.65</td>\n",
       "      <td>1.19</td>\n",
       "      <td>0.30</td>\n",
       "      <td>1.25</td>\n",
       "      <td>0.78</td>\n",
       "      <td>1.08</td>\n",
       "      <td>...</td>\n",
       "      <td>0.18</td>\n",
       "      <td>1.18</td>\n",
       "      <td>0.70</td>\n",
       "      <td>0.61</td>\n",
       "      <td>2.44</td>\n",
       "      <td>0.42</td>\n",
       "      <td>0.96</td>\n",
       "      <td>0.47</td>\n",
       "      <td>0.48</td>\n",
       "      <td>0.38</td>\n",
       "    </tr>\n",
       "    <tr>\n",
       "      <th>20862</th>\n",
       "      <td>0.00</td>\n",
       "      <td>0.00</td>\n",
       "      <td>0.75</td>\n",
       "      <td>0.17</td>\n",
       "      <td>0.77</td>\n",
       "      <td>0.82</td>\n",
       "      <td>0.69</td>\n",
       "      <td>0.88</td>\n",
       "      <td>0.23</td>\n",
       "      <td>0.69</td>\n",
       "      <td>...</td>\n",
       "      <td>0.36</td>\n",
       "      <td>0.54</td>\n",
       "      <td>0.51</td>\n",
       "      <td>1.42</td>\n",
       "      <td>0.03</td>\n",
       "      <td>0.27</td>\n",
       "      <td>1.11</td>\n",
       "      <td>1.26</td>\n",
       "      <td>1.34</td>\n",
       "      <td>0.55</td>\n",
       "    </tr>\n",
       "    <tr>\n",
       "      <th>20863</th>\n",
       "      <td>0.00</td>\n",
       "      <td>0.00</td>\n",
       "      <td>0.50</td>\n",
       "      <td>0.00</td>\n",
       "      <td>0.52</td>\n",
       "      <td>0.26</td>\n",
       "      <td>0.44</td>\n",
       "      <td>1.64</td>\n",
       "      <td>0.47</td>\n",
       "      <td>0.52</td>\n",
       "      <td>...</td>\n",
       "      <td>0.94</td>\n",
       "      <td>0.96</td>\n",
       "      <td>0.68</td>\n",
       "      <td>0.94</td>\n",
       "      <td>0.08</td>\n",
       "      <td>0.00</td>\n",
       "      <td>0.42</td>\n",
       "      <td>0.55</td>\n",
       "      <td>3.00</td>\n",
       "      <td>1.47</td>\n",
       "    </tr>\n",
       "    <tr>\n",
       "      <th>20864</th>\n",
       "      <td>0.00</td>\n",
       "      <td>0.00</td>\n",
       "      <td>0.25</td>\n",
       "      <td>1.46</td>\n",
       "      <td>1.05</td>\n",
       "      <td>0.77</td>\n",
       "      <td>0.42</td>\n",
       "      <td>1.05</td>\n",
       "      <td>1.01</td>\n",
       "      <td>0.00</td>\n",
       "      <td>...</td>\n",
       "      <td>1.82</td>\n",
       "      <td>0.38</td>\n",
       "      <td>1.34</td>\n",
       "      <td>0.17</td>\n",
       "      <td>0.17</td>\n",
       "      <td>0.00</td>\n",
       "      <td>0.23</td>\n",
       "      <td>1.40</td>\n",
       "      <td>0.57</td>\n",
       "      <td>0.73</td>\n",
       "    </tr>\n",
       "    <tr>\n",
       "      <th>20865</th>\n",
       "      <td>0.00</td>\n",
       "      <td>0.00</td>\n",
       "      <td>0.31</td>\n",
       "      <td>1.25</td>\n",
       "      <td>0.76</td>\n",
       "      <td>1.90</td>\n",
       "      <td>0.58</td>\n",
       "      <td>0.34</td>\n",
       "      <td>0.97</td>\n",
       "      <td>0.00</td>\n",
       "      <td>...</td>\n",
       "      <td>1.49</td>\n",
       "      <td>0.38</td>\n",
       "      <td>2.45</td>\n",
       "      <td>0.50</td>\n",
       "      <td>1.71</td>\n",
       "      <td>0.11</td>\n",
       "      <td>0.69</td>\n",
       "      <td>1.22</td>\n",
       "      <td>0.73</td>\n",
       "      <td>0.88</td>\n",
       "    </tr>\n",
       "    <tr>\n",
       "      <th>20866</th>\n",
       "      <td>0.00</td>\n",
       "      <td>0.00</td>\n",
       "      <td>0.91</td>\n",
       "      <td>0.22</td>\n",
       "      <td>1.66</td>\n",
       "      <td>0.83</td>\n",
       "      <td>0.50</td>\n",
       "      <td>0.78</td>\n",
       "      <td>0.55</td>\n",
       "      <td>1.13</td>\n",
       "      <td>...</td>\n",
       "      <td>0.28</td>\n",
       "      <td>1.68</td>\n",
       "      <td>0.19</td>\n",
       "      <td>0.91</td>\n",
       "      <td>0.39</td>\n",
       "      <td>0.24</td>\n",
       "      <td>0.28</td>\n",
       "      <td>0.68</td>\n",
       "      <td>1.62</td>\n",
       "      <td>0.85</td>\n",
       "    </tr>\n",
       "    <tr>\n",
       "      <th>20867</th>\n",
       "      <td>0.00</td>\n",
       "      <td>0.00</td>\n",
       "      <td>0.43</td>\n",
       "      <td>0.00</td>\n",
       "      <td>0.11</td>\n",
       "      <td>0.42</td>\n",
       "      <td>0.81</td>\n",
       "      <td>0.88</td>\n",
       "      <td>0.75</td>\n",
       "      <td>1.17</td>\n",
       "      <td>...</td>\n",
       "      <td>0.19</td>\n",
       "      <td>1.15</td>\n",
       "      <td>0.73</td>\n",
       "      <td>1.57</td>\n",
       "      <td>0.41</td>\n",
       "      <td>0.05</td>\n",
       "      <td>1.48</td>\n",
       "      <td>1.93</td>\n",
       "      <td>0.71</td>\n",
       "      <td>0.50</td>\n",
       "    </tr>\n",
       "    <tr>\n",
       "      <th>20868</th>\n",
       "      <td>0.00</td>\n",
       "      <td>0.00</td>\n",
       "      <td>0.96</td>\n",
       "      <td>0.00</td>\n",
       "      <td>0.60</td>\n",
       "      <td>0.38</td>\n",
       "      <td>0.30</td>\n",
       "      <td>1.29</td>\n",
       "      <td>0.74</td>\n",
       "      <td>0.54</td>\n",
       "      <td>...</td>\n",
       "      <td>0.13</td>\n",
       "      <td>0.88</td>\n",
       "      <td>0.78</td>\n",
       "      <td>0.00</td>\n",
       "      <td>0.52</td>\n",
       "      <td>0.66</td>\n",
       "      <td>0.20</td>\n",
       "      <td>0.69</td>\n",
       "      <td>0.34</td>\n",
       "      <td>0.02</td>\n",
       "    </tr>\n",
       "    <tr>\n",
       "      <th>20869</th>\n",
       "      <td>0.00</td>\n",
       "      <td>0.00</td>\n",
       "      <td>0.18</td>\n",
       "      <td>0.00</td>\n",
       "      <td>0.52</td>\n",
       "      <td>0.05</td>\n",
       "      <td>0.33</td>\n",
       "      <td>0.54</td>\n",
       "      <td>0.74</td>\n",
       "      <td>0.01</td>\n",
       "      <td>...</td>\n",
       "      <td>1.52</td>\n",
       "      <td>0.35</td>\n",
       "      <td>0.33</td>\n",
       "      <td>0.01</td>\n",
       "      <td>1.23</td>\n",
       "      <td>0.00</td>\n",
       "      <td>0.99</td>\n",
       "      <td>0.00</td>\n",
       "      <td>0.38</td>\n",
       "      <td>0.44</td>\n",
       "    </tr>\n",
       "    <tr>\n",
       "      <th>20870</th>\n",
       "      <td>0.00</td>\n",
       "      <td>0.00</td>\n",
       "      <td>0.20</td>\n",
       "      <td>0.00</td>\n",
       "      <td>0.43</td>\n",
       "      <td>0.30</td>\n",
       "      <td>0.04</td>\n",
       "      <td>0.63</td>\n",
       "      <td>0.18</td>\n",
       "      <td>1.04</td>\n",
       "      <td>...</td>\n",
       "      <td>0.59</td>\n",
       "      <td>0.34</td>\n",
       "      <td>0.00</td>\n",
       "      <td>0.04</td>\n",
       "      <td>0.43</td>\n",
       "      <td>0.00</td>\n",
       "      <td>0.09</td>\n",
       "      <td>0.00</td>\n",
       "      <td>0.52</td>\n",
       "      <td>0.39</td>\n",
       "    </tr>\n",
       "    <tr>\n",
       "      <th>20871</th>\n",
       "      <td>0.00</td>\n",
       "      <td>0.00</td>\n",
       "      <td>0.97</td>\n",
       "      <td>0.00</td>\n",
       "      <td>0.44</td>\n",
       "      <td>1.70</td>\n",
       "      <td>1.00</td>\n",
       "      <td>0.14</td>\n",
       "      <td>1.55</td>\n",
       "      <td>1.10</td>\n",
       "      <td>...</td>\n",
       "      <td>0.27</td>\n",
       "      <td>0.90</td>\n",
       "      <td>0.96</td>\n",
       "      <td>0.26</td>\n",
       "      <td>0.50</td>\n",
       "      <td>0.00</td>\n",
       "      <td>0.42</td>\n",
       "      <td>1.01</td>\n",
       "      <td>0.21</td>\n",
       "      <td>0.22</td>\n",
       "    </tr>\n",
       "    <tr>\n",
       "      <th>20872</th>\n",
       "      <td>0.18</td>\n",
       "      <td>0.18</td>\n",
       "      <td>0.63</td>\n",
       "      <td>1.06</td>\n",
       "      <td>0.89</td>\n",
       "      <td>1.33</td>\n",
       "      <td>0.85</td>\n",
       "      <td>1.21</td>\n",
       "      <td>0.37</td>\n",
       "      <td>0.68</td>\n",
       "      <td>...</td>\n",
       "      <td>0.25</td>\n",
       "      <td>0.88</td>\n",
       "      <td>0.71</td>\n",
       "      <td>0.26</td>\n",
       "      <td>0.34</td>\n",
       "      <td>0.78</td>\n",
       "      <td>2.24</td>\n",
       "      <td>0.87</td>\n",
       "      <td>0.05</td>\n",
       "      <td>0.54</td>\n",
       "    </tr>\n",
       "    <tr>\n",
       "      <th>20873</th>\n",
       "      <td>0.00</td>\n",
       "      <td>4.57</td>\n",
       "      <td>0.41</td>\n",
       "      <td>0.80</td>\n",
       "      <td>1.98</td>\n",
       "      <td>0.14</td>\n",
       "      <td>0.54</td>\n",
       "      <td>1.31</td>\n",
       "      <td>0.81</td>\n",
       "      <td>1.40</td>\n",
       "      <td>...</td>\n",
       "      <td>0.65</td>\n",
       "      <td>0.35</td>\n",
       "      <td>0.00</td>\n",
       "      <td>1.11</td>\n",
       "      <td>0.59</td>\n",
       "      <td>1.10</td>\n",
       "      <td>0.96</td>\n",
       "      <td>0.97</td>\n",
       "      <td>1.01</td>\n",
       "      <td>0.18</td>\n",
       "    </tr>\n",
       "    <tr>\n",
       "      <th>20874</th>\n",
       "      <td>0.00</td>\n",
       "      <td>0.00</td>\n",
       "      <td>0.00</td>\n",
       "      <td>0.00</td>\n",
       "      <td>0.00</td>\n",
       "      <td>0.00</td>\n",
       "      <td>0.00</td>\n",
       "      <td>0.00</td>\n",
       "      <td>0.00</td>\n",
       "      <td>0.00</td>\n",
       "      <td>...</td>\n",
       "      <td>0.00</td>\n",
       "      <td>0.00</td>\n",
       "      <td>0.00</td>\n",
       "      <td>0.00</td>\n",
       "      <td>0.00</td>\n",
       "      <td>0.00</td>\n",
       "      <td>0.00</td>\n",
       "      <td>0.00</td>\n",
       "      <td>0.00</td>\n",
       "      <td>0.00</td>\n",
       "    </tr>\n",
       "    <tr>\n",
       "      <th>20875</th>\n",
       "      <td>0.00</td>\n",
       "      <td>0.00</td>\n",
       "      <td>0.49</td>\n",
       "      <td>0.60</td>\n",
       "      <td>0.41</td>\n",
       "      <td>0.22</td>\n",
       "      <td>1.04</td>\n",
       "      <td>1.09</td>\n",
       "      <td>0.34</td>\n",
       "      <td>0.00</td>\n",
       "      <td>...</td>\n",
       "      <td>0.34</td>\n",
       "      <td>0.56</td>\n",
       "      <td>0.35</td>\n",
       "      <td>0.90</td>\n",
       "      <td>0.33</td>\n",
       "      <td>0.57</td>\n",
       "      <td>0.17</td>\n",
       "      <td>0.15</td>\n",
       "      <td>0.26</td>\n",
       "      <td>0.13</td>\n",
       "    </tr>\n",
       "    <tr>\n",
       "      <th>20876</th>\n",
       "      <td>0.00</td>\n",
       "      <td>0.00</td>\n",
       "      <td>0.14</td>\n",
       "      <td>0.00</td>\n",
       "      <td>1.69</td>\n",
       "      <td>0.00</td>\n",
       "      <td>0.76</td>\n",
       "      <td>0.98</td>\n",
       "      <td>1.04</td>\n",
       "      <td>0.30</td>\n",
       "      <td>...</td>\n",
       "      <td>0.28</td>\n",
       "      <td>0.11</td>\n",
       "      <td>1.30</td>\n",
       "      <td>0.48</td>\n",
       "      <td>0.18</td>\n",
       "      <td>0.29</td>\n",
       "      <td>0.67</td>\n",
       "      <td>0.55</td>\n",
       "      <td>1.79</td>\n",
       "      <td>0.58</td>\n",
       "    </tr>\n",
       "    <tr>\n",
       "      <th>20877</th>\n",
       "      <td>0.00</td>\n",
       "      <td>0.00</td>\n",
       "      <td>0.33</td>\n",
       "      <td>1.08</td>\n",
       "      <td>0.75</td>\n",
       "      <td>0.42</td>\n",
       "      <td>0.68</td>\n",
       "      <td>0.31</td>\n",
       "      <td>0.25</td>\n",
       "      <td>0.97</td>\n",
       "      <td>...</td>\n",
       "      <td>0.14</td>\n",
       "      <td>0.60</td>\n",
       "      <td>0.35</td>\n",
       "      <td>2.25</td>\n",
       "      <td>0.46</td>\n",
       "      <td>0.62</td>\n",
       "      <td>0.72</td>\n",
       "      <td>0.40</td>\n",
       "      <td>1.98</td>\n",
       "      <td>0.80</td>\n",
       "    </tr>\n",
       "  </tbody>\n",
       "</table>\n",
       "<p>20878 rows × 101 columns</p>\n",
       "</div>"
      ],
      "text/plain": [
       "       ATF2   ATF3   BATF  BCL11A   BCL3  BCLAF1  BHLHE40  BRCA1  C-FOS(FOS)  \\\n",
       "0      0.00   0.00   7.46    3.67  16.20   20.02    13.52   1.00        2.31   \n",
       "1      0.00   0.00   3.07    3.54   1.17    1.06    26.92   1.52        1.70   \n",
       "2      0.00   0.00   3.45    0.86   2.21    3.46    39.33   3.70        1.63   \n",
       "3      0.00   0.51   8.03    1.77   3.75    4.51    31.47   2.58        2.55   \n",
       "4      0.00   2.52   2.89    1.15   1.06    2.39    28.08   4.48        2.32   \n",
       "5      0.00   0.84  11.28    0.71   2.66    4.74    20.36   3.44        3.45   \n",
       "6      0.00   0.00   2.05    1.72   0.87    0.79    47.21   1.29        1.04   \n",
       "7      0.38   2.08  21.09    0.25  40.49   21.86    22.20   5.28        0.56   \n",
       "8      8.49   4.15   2.41    0.23   2.06    2.52     4.44   3.01        0.65   \n",
       "9      0.00   2.83   4.08    0.78   4.42    2.64    13.53   4.13        0.40   \n",
       "10     0.00   0.76   4.80    0.21   2.17    2.93     5.80   2.07        1.02   \n",
       "11     0.00   0.60   6.07    0.22   3.63    2.77     4.79   3.00        0.75   \n",
       "12     0.00   0.45   2.51    1.74   0.75    0.66    23.53   2.53        1.06   \n",
       "13     0.00   3.35   6.88    0.00   7.27    4.99    13.97   2.80        2.21   \n",
       "14     0.00   0.00   8.57    1.05  19.65    6.23    11.69   3.80        0.30   \n",
       "15     0.36   0.12   4.33    2.47   1.91    2.18    12.53   2.56        0.90   \n",
       "16     6.63   0.00   7.29    0.62   4.05    2.97     4.72   2.28        0.92   \n",
       "17     8.97   0.00   3.63    1.07   1.92    1.81    27.02   7.14        0.44   \n",
       "18     0.94   0.00   5.56    0.25   1.64    2.70    11.85   2.77        0.28   \n",
       "19     0.00   1.29   6.99    1.51   4.22    8.31    10.88   2.17        0.90   \n",
       "20     0.00   0.68  17.11    1.45  33.96   16.01    23.04   5.88        1.22   \n",
       "21     6.51   0.00   6.40    1.12   5.50    3.98    14.05   4.34        2.07   \n",
       "22     0.00  10.36   1.49    0.67   2.48    2.21     4.37   2.12        0.87   \n",
       "23     0.00   5.31   2.88    1.49   2.34    3.35     5.75   1.99        0.67   \n",
       "24     0.13   1.52   4.38    1.18  10.02    4.66     8.34   2.54        1.26   \n",
       "25     0.00   0.30   5.05    1.41   7.64    4.59    21.76   4.54        2.08   \n",
       "26     0.63   9.35   2.33    0.23   2.00    1.12     5.58   2.29        0.93   \n",
       "27     0.00   3.36   8.44    1.10   4.87    6.24    21.47   6.25        0.95   \n",
       "28     0.00   0.00   4.56    0.36   5.38    5.66    10.81   2.76        0.45   \n",
       "29     0.00   0.00   0.12    2.00   0.27    1.72     2.69   0.96        1.64   \n",
       "...     ...    ...    ...     ...    ...     ...      ...    ...         ...   \n",
       "20848  0.00   0.00   0.88    0.00   0.20    0.04     0.37   1.49        0.74   \n",
       "20849  0.00   0.00   0.00    0.00   0.00    0.36     0.00   0.24        0.30   \n",
       "20850  0.30   0.00   0.60    0.00   0.00    0.84     0.48   1.16        1.14   \n",
       "20851  0.00   3.91   0.57    0.00   0.43    0.94     0.73   1.15        0.40   \n",
       "20852  0.00   0.00   0.53    0.00   1.13    0.89     1.23   0.41        0.65   \n",
       "20853  0.00   0.00   1.02    1.15   0.81    0.22     0.42   1.14        0.28   \n",
       "20854  0.00   0.00   0.45    0.77   0.00    1.18     0.53   0.99        0.90   \n",
       "20855  0.00   0.00   0.47    0.00   0.91    0.49     0.81   0.73        0.01   \n",
       "20856  0.00   0.00   0.72    1.68   0.17    0.56     0.73   0.66        0.13   \n",
       "20857  0.00   0.00   0.32    0.32   0.54    0.79     0.38   1.27        1.81   \n",
       "20858  0.00   0.00   0.46    0.06   0.01    0.06     0.54   0.88        0.38   \n",
       "20859  1.59   0.00   0.92    1.21   0.71    1.18     0.70   1.07        1.69   \n",
       "20860  0.00   0.00   0.23    0.72   0.46    0.55     0.59   1.17        0.15   \n",
       "20861  0.00   0.00   0.04    0.00   0.65    1.19     0.30   1.25        0.78   \n",
       "20862  0.00   0.00   0.75    0.17   0.77    0.82     0.69   0.88        0.23   \n",
       "20863  0.00   0.00   0.50    0.00   0.52    0.26     0.44   1.64        0.47   \n",
       "20864  0.00   0.00   0.25    1.46   1.05    0.77     0.42   1.05        1.01   \n",
       "20865  0.00   0.00   0.31    1.25   0.76    1.90     0.58   0.34        0.97   \n",
       "20866  0.00   0.00   0.91    0.22   1.66    0.83     0.50   0.78        0.55   \n",
       "20867  0.00   0.00   0.43    0.00   0.11    0.42     0.81   0.88        0.75   \n",
       "20868  0.00   0.00   0.96    0.00   0.60    0.38     0.30   1.29        0.74   \n",
       "20869  0.00   0.00   0.18    0.00   0.52    0.05     0.33   0.54        0.74   \n",
       "20870  0.00   0.00   0.20    0.00   0.43    0.30     0.04   0.63        0.18   \n",
       "20871  0.00   0.00   0.97    0.00   0.44    1.70     1.00   0.14        1.55   \n",
       "20872  0.18   0.18   0.63    1.06   0.89    1.33     0.85   1.21        0.37   \n",
       "20873  0.00   4.57   0.41    0.80   1.98    0.14     0.54   1.31        0.81   \n",
       "20874  0.00   0.00   0.00    0.00   0.00    0.00     0.00   0.00        0.00   \n",
       "20875  0.00   0.00   0.49    0.60   0.41    0.22     1.04   1.09        0.34   \n",
       "20876  0.00   0.00   0.14    0.00   1.69    0.00     0.76   0.98        1.04   \n",
       "20877  0.00   0.00   0.33    1.08   0.75    0.42     0.68   0.31        0.25   \n",
       "\n",
       "       C-MYC(MYC)  ...    USF1   USF2  WHIP(WRNIP1)   YY1  ZBTB33   ZEB1  \\\n",
       "0            3.82  ...   10.44  18.48          1.78  0.15    4.94  15.50   \n",
       "1            0.27  ...    1.94   7.31          1.01  0.00    3.33   5.17   \n",
       "2            2.01  ...    7.00   8.70          7.60  0.24   11.26  11.26   \n",
       "3            2.01  ...    8.98   6.21          9.10  0.14    2.63   5.84   \n",
       "4            0.83  ...    7.33   5.49         11.24  0.05    5.33   7.61   \n",
       "5            1.80  ...    7.20   7.53         16.18  0.31   15.83   7.16   \n",
       "6            1.03  ...    2.41   2.56          1.29  0.71    1.34   4.87   \n",
       "7            3.09  ...    8.65   9.45          9.02  0.31    1.88   6.31   \n",
       "8            1.84  ...    1.53   2.27          1.47  0.39    0.60   1.41   \n",
       "9            0.23  ...    2.18   1.51          3.50  0.33    0.51   2.71   \n",
       "10           1.40  ...    2.06   3.65          4.30  0.45    0.66   5.09   \n",
       "11           0.60  ...    1.90   2.45          1.54  0.18    0.95   4.37   \n",
       "12           1.97  ...    1.50   2.59          2.33  0.45    2.96   1.78   \n",
       "13           2.46  ...    5.47   5.51          4.00  0.58    1.42   6.84   \n",
       "14           0.59  ...    1.03   7.71          1.59  0.07    0.49   8.12   \n",
       "15           1.66  ...    5.56   3.99         13.44  0.05   40.61   3.07   \n",
       "16           2.10  ...    2.34   9.66          4.32  0.28    7.51   5.40   \n",
       "17           0.86  ...    2.73   1.44          8.37  0.18   10.74   1.11   \n",
       "18           2.01  ...    1.65   7.24          2.11  0.21    1.88   5.32   \n",
       "19           4.75  ...    0.83   5.57          0.73  0.32    0.37  11.73   \n",
       "20           2.03  ...   10.76  14.44          5.98  0.11    2.35  14.85   \n",
       "21           0.57  ...    5.25   3.72          6.69  0.35    2.79   1.92   \n",
       "22           0.48  ...    2.45   1.62          3.98  0.69    1.48   2.11   \n",
       "23           1.63  ...    2.12   1.74          6.60  0.10    1.36   3.44   \n",
       "24           1.64  ...    2.66   3.12          8.01  0.01    1.56   3.74   \n",
       "25           1.91  ...    3.40   4.82          4.29  0.33    1.52   4.94   \n",
       "26           0.52  ...    2.95   1.28         14.61  0.33    0.75   1.40   \n",
       "27           1.33  ...    3.77   4.70         11.12  0.09    7.66   4.16   \n",
       "28           0.84  ...    4.38   7.05          2.94  0.46    2.02   3.18   \n",
       "29           0.99  ...    0.49   1.35          0.00  1.90    0.00   2.78   \n",
       "...           ...  ...     ...    ...           ...   ...     ...    ...   \n",
       "20848        0.63  ...    0.45   0.00          0.36  0.21    0.65   0.01   \n",
       "20849        0.00  ...    0.61   0.00          0.31  0.30    0.43   0.16   \n",
       "20850        0.54  ...    1.24   0.88          0.98  0.41    0.00   0.48   \n",
       "20851        0.57  ...    0.11   0.09          0.76  0.14    0.00   0.90   \n",
       "20852        0.81  ...    0.31   0.15          0.58  0.71    0.31   0.65   \n",
       "20853        0.26  ...    1.09   0.19          0.79  0.00    1.07   0.56   \n",
       "20854        1.59  ...    0.51   1.61          0.89  0.13    1.84   1.69   \n",
       "20855        0.17  ...    0.70   0.93          0.37  0.07    0.49   0.62   \n",
       "20856        0.69  ...    0.44   0.97          1.02  0.26    0.00   0.56   \n",
       "20857        1.20  ...    1.07   0.39          2.12  0.23    0.35   0.28   \n",
       "20858        0.77  ...    0.28   1.09          1.04  0.17    1.33   0.84   \n",
       "20859        0.28  ...    0.88   0.30          0.14  0.12    0.00   0.40   \n",
       "20860        0.19  ...    0.32   1.52          0.47  0.64    1.01   0.00   \n",
       "20861        1.08  ...    0.18   1.18          0.70  0.61    2.44   0.42   \n",
       "20862        0.69  ...    0.36   0.54          0.51  1.42    0.03   0.27   \n",
       "20863        0.52  ...    0.94   0.96          0.68  0.94    0.08   0.00   \n",
       "20864        0.00  ...    1.82   0.38          1.34  0.17    0.17   0.00   \n",
       "20865        0.00  ...    1.49   0.38          2.45  0.50    1.71   0.11   \n",
       "20866        1.13  ...    0.28   1.68          0.19  0.91    0.39   0.24   \n",
       "20867        1.17  ...    0.19   1.15          0.73  1.57    0.41   0.05   \n",
       "20868        0.54  ...    0.13   0.88          0.78  0.00    0.52   0.66   \n",
       "20869        0.01  ...    1.52   0.35          0.33  0.01    1.23   0.00   \n",
       "20870        1.04  ...    0.59   0.34          0.00  0.04    0.43   0.00   \n",
       "20871        1.10  ...    0.27   0.90          0.96  0.26    0.50   0.00   \n",
       "20872        0.68  ...    0.25   0.88          0.71  0.26    0.34   0.78   \n",
       "20873        1.40  ...    0.65   0.35          0.00  1.11    0.59   1.10   \n",
       "20874        0.00  ...    0.00   0.00          0.00  0.00    0.00   0.00   \n",
       "20875        0.00  ...    0.34   0.56          0.35  0.90    0.33   0.57   \n",
       "20876        0.30  ...    0.28   0.11          1.30  0.48    0.18   0.29   \n",
       "20877        0.97  ...    0.14   0.60          0.35  2.25    0.46   0.62   \n",
       "\n",
       "       ZNF143  ZNF274  ZNF384  ZZZ3  \n",
       "0        4.21    2.11    0.00  3.45  \n",
       "1        3.01    1.31    0.00  2.64  \n",
       "2        4.16    3.91    0.09  1.64  \n",
       "3        1.59    3.34    0.00  0.76  \n",
       "4        2.12    3.83    0.00  1.04  \n",
       "5        9.07    4.01    0.14  2.12  \n",
       "6        2.95    1.06    0.00  1.02  \n",
       "7        1.25    3.47    4.33  1.25  \n",
       "8        2.14    2.10    0.53  0.55  \n",
       "9        0.18    0.29    0.12  0.31  \n",
       "10       1.24    2.63    0.09  1.00  \n",
       "11       0.74    1.44    0.00  0.46  \n",
       "12       4.12    0.72    0.14  3.73  \n",
       "13       2.14    4.93    0.91  1.05  \n",
       "14       0.25    0.80    0.43  1.05  \n",
       "15      13.11    3.81    0.52  0.51  \n",
       "16       4.92    2.97    0.07  1.79  \n",
       "17       5.51    3.90    0.13  0.68  \n",
       "18       1.52    1.62    0.00  2.01  \n",
       "19       1.39    0.94    0.60  0.96  \n",
       "20       1.16    4.76    0.12  1.12  \n",
       "21       0.75    4.75    0.19  0.60  \n",
       "22       0.63    4.33    1.94  2.11  \n",
       "23       0.61    1.75    0.36  0.64  \n",
       "24       1.25    2.75    0.26  0.98  \n",
       "25       0.83    2.54    0.34  1.82  \n",
       "26       0.36    2.84    1.23  0.88  \n",
       "27       5.69    2.36    0.72  1.01  \n",
       "28       0.18    2.92    0.30  1.29  \n",
       "29       1.81    0.52    0.00  1.09  \n",
       "...       ...     ...     ...   ...  \n",
       "20848    0.12    0.69    0.47  0.26  \n",
       "20849    0.46    0.31    0.51  0.00  \n",
       "20850    0.45    0.57    0.79  0.80  \n",
       "20851    0.46    0.07    0.00  0.39  \n",
       "20852    1.96    0.20    1.02  1.91  \n",
       "20853    0.95    0.57    1.52  0.12  \n",
       "20854    0.71    0.78    0.10  0.41  \n",
       "20855    1.80    1.19    1.63  0.70  \n",
       "20856    0.32    0.00    0.32  1.06  \n",
       "20857    0.00    0.00    0.00  0.45  \n",
       "20858    0.09    1.08    0.00  0.24  \n",
       "20859    0.63    0.34    0.48  0.20  \n",
       "20860    1.22    0.58    0.72  0.00  \n",
       "20861    0.96    0.47    0.48  0.38  \n",
       "20862    1.11    1.26    1.34  0.55  \n",
       "20863    0.42    0.55    3.00  1.47  \n",
       "20864    0.23    1.40    0.57  0.73  \n",
       "20865    0.69    1.22    0.73  0.88  \n",
       "20866    0.28    0.68    1.62  0.85  \n",
       "20867    1.48    1.93    0.71  0.50  \n",
       "20868    0.20    0.69    0.34  0.02  \n",
       "20869    0.99    0.00    0.38  0.44  \n",
       "20870    0.09    0.00    0.52  0.39  \n",
       "20871    0.42    1.01    0.21  0.22  \n",
       "20872    2.24    0.87    0.05  0.54  \n",
       "20873    0.96    0.97    1.01  0.18  \n",
       "20874    0.00    0.00    0.00  0.00  \n",
       "20875    0.17    0.15    0.26  0.13  \n",
       "20876    0.67    0.55    1.79  0.58  \n",
       "20877    0.72    0.40    1.98  0.80  \n",
       "\n",
       "[20878 rows x 101 columns]"
      ]
     },
     "execution_count": 2,
     "metadata": {},
     "output_type": "execute_result"
    }
   ],
   "source": [
    "epigenomic"
   ]
  },
  {
   "cell_type": "markdown",
   "metadata": {},
   "source": [
    "### Checking for NaN values\n",
    "To check if there are any NaN values we use the [pandas method `pd.isna`](https://pandas.pydata.org/pandas-docs/stable/reference/api/pandas.DataFrame.isna.html), which returns a boolean value for each value of the dataframe. Then, we will use [np.any](https://docs.scipy.org/doc/numpy/reference/generated/numpy.any.html) to check for any `NaN` value. If detected, we would have to either choose a way to fill the value or delete the column / row with the value."
   ]
  },
  {
   "cell_type": "code",
   "execution_count": 3,
   "metadata": {},
   "outputs": [
    {
     "data": {
      "text/plain": [
       "False"
      ]
     },
     "execution_count": 3,
     "metadata": {},
     "output_type": "execute_result"
    }
   ],
   "source": [
    "import numpy as np\n",
    "np.any(pd.isna(epigenomic).values)"
   ]
  },
  {
   "cell_type": "markdown",
   "metadata": {},
   "source": [
    "We are in luck! No `NaN` values in sight."
   ]
  },
  {
   "cell_type": "markdown",
   "metadata": {},
   "source": [
    "### Checking for columns with low variance\n",
    "To check if any column has a very low variance we will start by computing the dataframe's columns variance and we will normalize them by their mean. Then, after choosing a sensible threshold (for example $0.1$), we will check if any of the column has variance that. We could consider to remove such columns, as they might just slow down the training without contributing much informations."
   ]
  },
  {
   "cell_type": "code",
   "execution_count": 4,
   "metadata": {},
   "outputs": [
    {
     "data": {
      "text/plain": [
       "False"
      ]
     },
     "execution_count": 4,
     "metadata": {},
     "output_type": "execute_result"
    }
   ],
   "source": [
    "np.any(epigenomic.var() / epigenomic.mean() < 0.1)"
   ]
  },
  {
   "cell_type": "markdown",
   "metadata": {},
   "source": [
    "Nessuna colonna ha varianza estremamente bassa!"
   ]
  },
  {
   "cell_type": "markdown",
   "metadata": {},
   "source": [
    "### Checking for covariances\n",
    "To check if any columns pair has an high [Pearson coefficient](https://en.wikipedia.org/wiki/Pearson_correlation_coefficient) we calculate the coefficient and then we check for correlations higher than $0.95$, ignoring the main diagonal. If we were to find extremely correlated columns we could remove one of them, preferebly the one with minor variance to remove redoundant data."
   ]
  },
  {
   "cell_type": "code",
   "execution_count": 5,
   "metadata": {},
   "outputs": [
    {
     "data": {
      "text/plain": [
       "0.0"
      ]
     },
     "execution_count": 5,
     "metadata": {},
     "output_type": "execute_result"
    }
   ],
   "source": [
    "pearson = (epigenomic.corr().abs().values > 0.95).astype(float)\n",
    "pearson[np.tril_indices(pearson.shape[0])] = np.nan\n",
    "np.nansum(pearson)"
   ]
  },
  {
   "cell_type": "markdown",
   "metadata": {},
   "source": [
    "Nessuna colonna risulta fortemente covariante con un'altra."
   ]
  },
  {
   "cell_type": "markdown",
   "metadata": {},
   "source": [
    "## The sequence data\n",
    "The sequence data file `\"GM12878/regions.bed\"` is a file [bed file](https://genome.ucsc.edu/FAQ/FAQformat.html) that contains the delimiters for nucleotides of size $200$ in our case. We will start by extracting the nucleotides sequence from the genome: as first step we will download [the genome `\"hg19\"`](https://www.ncbi.nlm.nih.gov/assembly/GCF_000001405.13/)."
   ]
  },
  {
   "cell_type": "code",
   "execution_count": 6,
   "metadata": {},
   "outputs": [],
   "source": [
    "from ucsc_genomes_downloader import download_genome\n",
    "download_genome(\"hg19\")"
   ]
  },
  {
   "cell_type": "markdown",
   "metadata": {},
   "source": [
    "Then, now, we will use [`bedtools`](https://bedtools.readthedocs.io/en/latest/content/installation.html). On linux you can install it by running:\n",
    "```bash\n",
    "sudo apt-get install bedtools\n",
    "```"
   ]
  },
  {
   "cell_type": "code",
   "execution_count": 7,
   "metadata": {},
   "outputs": [
    {
     "data": {
      "text/plain": [
       "CompletedProcess(args=['fastaFromBed', '-fi', 'hg19.fa', '-bed', 'GM12878/regions.bed', '-fo', 'GM12878/expanded_regions.fa'], returncode=0)"
      ]
     },
     "execution_count": 7,
     "metadata": {},
     "output_type": "execute_result"
    }
   ],
   "source": [
    "import subprocess\n",
    "subprocess.run([\n",
    "    \"fastaFromBed\",\n",
    "    \"-fi\",\n",
    "    \"hg19.fa\",\n",
    "    \"-bed\",\n",
    "    \"GM12878/regions.bed\",\n",
    "    \"-fo\",\n",
    "    \"GM12878/expanded_regions.fa\"\n",
    "])"
   ]
  },
  {
   "cell_type": "markdown",
   "metadata": {},
   "source": [
    "Now we have within the file `\"GM12878/expanded_regions.fa\"` the expanded nucleotides sequences."
   ]
  },
  {
   "cell_type": "markdown",
   "metadata": {},
   "source": [
    "## Preparing the epigenomic data for training\n",
    "To prepare the emigenomic data we proceed with a [`MinMaxScaler`](https://scikit-learn.org/stable/modules/generated/sklearn.preprocessing.MinMaxScaler.html), fitting it on the training data and normalizing both training and testing epigenomic data, splitting them using [`train_test_split`](https://scikit-learn.org/stable/modules/generated/sklearn.model_selection.train_test_split.html) from sklearn."
   ]
  },
  {
   "cell_type": "code",
   "execution_count": 8,
   "metadata": {},
   "outputs": [],
   "source": [
    "from sklearn.model_selection import train_test_split\n",
    "epi_train, epi_test = train_test_split(epigenomic, test_size=0.3, random_state=42)"
   ]
  },
  {
   "cell_type": "code",
   "execution_count": 9,
   "metadata": {},
   "outputs": [],
   "source": [
    "from sklearn.preprocessing import MinMaxScaler\n",
    "scaler = MinMaxScaler().fit(epi_train)\n",
    "epi_train, epi_test = scaler.transform(epi_train), scaler.transform(epi_test)"
   ]
  },
  {
   "cell_type": "markdown",
   "metadata": {},
   "source": [
    "This normalization reduces the ranges of the training set from $0$ to $1$, and we *hope* that the training set is general enough to reduce also the testing set within this range. Since our dataset isn't very big, it could happen that we might not be able to normalize in the same range also the test set:"
   ]
  },
  {
   "cell_type": "code",
   "execution_count": 10,
   "metadata": {},
   "outputs": [
    {
     "data": {
      "text/plain": [
       "(0.0, 1.0, 0.0, 1.6409340659340659)"
      ]
     },
     "execution_count": 10,
     "metadata": {},
     "output_type": "execute_result"
    }
   ],
   "source": [
    "epi_train.min(), epi_train.max(), epi_test.min(), epi_test.max()"
   ]
  },
  {
   "cell_type": "markdown",
   "metadata": {},
   "source": [
    "## Preparing the sequence data for training\n",
    "To prepare the sequence data for training, we have to [one-hot](https://en.wikipedia.org/wiki/One-hot) encode the sequences. Afterwards, we will proceed to split it into training and testing set."
   ]
  },
  {
   "cell_type": "code",
   "execution_count": 11,
   "metadata": {},
   "outputs": [],
   "source": [
    "from fasta_one_hot_encoder import FastaOneHotEncoder\n",
    "FastaOneHotEncoder(\n",
    "    nucleotides=\"acgtn\",\n",
    "    kmers_length=1,\n",
    "    lower=True,\n",
    "    sparse=False\n",
    ").transform_to_df(\"GM12878/expanded_regions.fa\").to_csv(\"GM12878/encoded_regions.fa\")"
   ]
  },
  {
   "cell_type": "code",
   "execution_count": 12,
   "metadata": {},
   "outputs": [
    {
     "name": "stderr",
     "output_type": "stream",
     "text": [
      "/usr/local/anaconda3/lib/python3.7/site-packages/numpy/lib/arraysetops.py:522: FutureWarning: elementwise comparison failed; returning scalar instead, but in the future will perform elementwise comparison\n",
      "  mask |= (ar1 == a)\n"
     ]
    }
   ],
   "source": [
    "seq_train, seq_test = train_test_split(\n",
    "    pd.read_csv(\"GM12878/encoded_regions.fa\", index_col=0).values.reshape(-1, 200, 5),\n",
    "    test_size=0.3,\n",
    "    random_state=42\n",
    ")"
   ]
  },
  {
   "cell_type": "markdown",
   "metadata": {},
   "source": [
    "## Preparing the labels for training"
   ]
  },
  {
   "cell_type": "markdown",
   "metadata": {},
   "source": [
    "The dataset we are working on was prepared with a number of tasks, in particular we will work on ditinguishing **Active enhancers vs Active promoters** *(A-E vs A-P)*."
   ]
  },
  {
   "cell_type": "code",
   "execution_count": 13,
   "metadata": {},
   "outputs": [],
   "source": [
    "class_train, class_test = train_test_split(\n",
    "    pd.read_csv(\"GM12878/classes.csv\", index_col=False).values,\n",
    "    test_size=0.3,\n",
    "    random_state=42\n",
    ")"
   ]
  },
  {
   "cell_type": "markdown",
   "metadata": {},
   "source": [
    "First of all, we have to drop the labels that do not match any class of interest. We begin by obtaining the mask of the correct labels:"
   ]
  },
  {
   "cell_type": "code",
   "execution_count": 14,
   "metadata": {},
   "outputs": [],
   "source": [
    "classes = [\"A-E\", \"A-P\"]\n",
    "class_train\n",
    "train_mask = np.isin(class_train.ravel(), classes)\n",
    "test_mask = np.isin(class_test.ravel(), classes)"
   ]
  },
  {
   "cell_type": "code",
   "execution_count": 15,
   "metadata": {},
   "outputs": [],
   "source": [
    "epi_train, epi_test = epi_train[train_mask], epi_test[test_mask]\n",
    "seq_train, seq_test = seq_train[train_mask], seq_test[test_mask]\n",
    "class_train, class_test = class_train[train_mask], class_test[test_mask]"
   ]
  },
  {
   "cell_type": "code",
   "execution_count": 16,
   "metadata": {},
   "outputs": [],
   "source": [
    "class_train = class_train==\"A-E\"\n",
    "class_test = class_test==\"A-E\""
   ]
  },
  {
   "cell_type": "markdown",
   "metadata": {},
   "source": [
    "## Preparing an MLP"
   ]
  },
  {
   "cell_type": "code",
   "execution_count": 17,
   "metadata": {},
   "outputs": [
    {
     "name": "stderr",
     "output_type": "stream",
     "text": [
      "Using TensorFlow backend.\n"
     ]
    }
   ],
   "source": [
    "from keras import Sequential\n",
    "from keras.layers import Dense, Dropout\n",
    "from extra_keras_utils import set_seed\n",
    "import silence_tensorflow\n",
    "import extra_keras_metrics\n",
    "\n",
    "set_seed(42)\n",
    "\n",
    "mlp = Sequential([\n",
    "    Dense(128, activation=\"relu\"),\n",
    "    Dense(128, activation=\"relu\"),\n",
    "    Dropout(0.1),\n",
    "    Dense(64, activation=\"relu\"),\n",
    "    Dense(64, activation=\"relu\"),\n",
    "    Dropout(0.1),\n",
    "    Dense(32, activation=\"relu\"),\n",
    "    Dense(32, activation=\"relu\"),\n",
    "    Dropout(0.1),\n",
    "    Dense(1, activation=\"sigmoid\")\n",
    "])\n",
    "\n",
    "mlp.compile(\n",
    "    optimizer=\"nadam\",\n",
    "    loss=\"binary_crossentropy\",\n",
    "    metrics=[\"auprc\", \"auroc\"]\n",
    ")"
   ]
  },
  {
   "cell_type": "markdown",
   "metadata": {},
   "source": [
    "## Training the MLP\n",
    "We will use in particular the [`EarlyStopping`](https://keras.io/callbacks/#earlystopping) method to stop the training when the `\"auprc\"` metric no longer increses."
   ]
  },
  {
   "cell_type": "code",
   "execution_count": 18,
   "metadata": {},
   "outputs": [
    {
     "data": {
      "application/vnd.jupyter.widget-view+json": {
       "model_id": "ad707d00903a482a92cb1aa5358d0ab5",
       "version_major": 2,
       "version_minor": 0
      },
      "text/plain": [
       "HBox(children=(IntProgress(value=0, description='Training', layout=Layout(flex='2'), max=200, style=ProgressSt…"
      ]
     },
     "metadata": {},
     "output_type": "display_data"
    },
    {
     "data": {
      "application/vnd.jupyter.widget-view+json": {
       "model_id": "",
       "version_major": 2,
       "version_minor": 0
      },
      "text/plain": [
       "HBox(children=(IntProgress(value=0, description='Epoch 0', layout=Layout(flex='2'), max=4093, style=ProgressSt…"
      ]
     },
     "metadata": {},
     "output_type": "display_data"
    },
    {
     "data": {
      "application/vnd.jupyter.widget-view+json": {
       "model_id": "",
       "version_major": 2,
       "version_minor": 0
      },
      "text/plain": [
       "HBox(children=(IntProgress(value=0, description='Epoch 1', layout=Layout(flex='2'), max=4093, style=ProgressSt…"
      ]
     },
     "metadata": {},
     "output_type": "display_data"
    },
    {
     "data": {
      "application/vnd.jupyter.widget-view+json": {
       "model_id": "",
       "version_major": 2,
       "version_minor": 0
      },
      "text/plain": [
       "HBox(children=(IntProgress(value=0, description='Epoch 2', layout=Layout(flex='2'), max=4093, style=ProgressSt…"
      ]
     },
     "metadata": {},
     "output_type": "display_data"
    },
    {
     "data": {
      "application/vnd.jupyter.widget-view+json": {
       "model_id": "",
       "version_major": 2,
       "version_minor": 0
      },
      "text/plain": [
       "HBox(children=(IntProgress(value=0, description='Epoch 3', layout=Layout(flex='2'), max=4093, style=ProgressSt…"
      ]
     },
     "metadata": {},
     "output_type": "display_data"
    },
    {
     "data": {
      "application/vnd.jupyter.widget-view+json": {
       "model_id": "",
       "version_major": 2,
       "version_minor": 0
      },
      "text/plain": [
       "HBox(children=(IntProgress(value=0, description='Epoch 4', layout=Layout(flex='2'), max=4093, style=ProgressSt…"
      ]
     },
     "metadata": {},
     "output_type": "display_data"
    },
    {
     "data": {
      "application/vnd.jupyter.widget-view+json": {
       "model_id": "",
       "version_major": 2,
       "version_minor": 0
      },
      "text/plain": [
       "HBox(children=(IntProgress(value=0, description='Epoch 5', layout=Layout(flex='2'), max=4093, style=ProgressSt…"
      ]
     },
     "metadata": {},
     "output_type": "display_data"
    },
    {
     "data": {
      "application/vnd.jupyter.widget-view+json": {
       "model_id": "",
       "version_major": 2,
       "version_minor": 0
      },
      "text/plain": [
       "HBox(children=(IntProgress(value=0, description='Epoch 6', layout=Layout(flex='2'), max=4093, style=ProgressSt…"
      ]
     },
     "metadata": {},
     "output_type": "display_data"
    },
    {
     "data": {
      "application/vnd.jupyter.widget-view+json": {
       "model_id": "",
       "version_major": 2,
       "version_minor": 0
      },
      "text/plain": [
       "HBox(children=(IntProgress(value=0, description='Epoch 7', layout=Layout(flex='2'), max=4093, style=ProgressSt…"
      ]
     },
     "metadata": {},
     "output_type": "display_data"
    },
    {
     "data": {
      "application/vnd.jupyter.widget-view+json": {
       "model_id": "",
       "version_major": 2,
       "version_minor": 0
      },
      "text/plain": [
       "HBox(children=(IntProgress(value=0, description='Epoch 8', layout=Layout(flex='2'), max=4093, style=ProgressSt…"
      ]
     },
     "metadata": {},
     "output_type": "display_data"
    },
    {
     "data": {
      "application/vnd.jupyter.widget-view+json": {
       "model_id": "",
       "version_major": 2,
       "version_minor": 0
      },
      "text/plain": [
       "HBox(children=(IntProgress(value=0, description='Epoch 9', layout=Layout(flex='2'), max=4093, style=ProgressSt…"
      ]
     },
     "metadata": {},
     "output_type": "display_data"
    },
    {
     "data": {
      "application/vnd.jupyter.widget-view+json": {
       "model_id": "",
       "version_major": 2,
       "version_minor": 0
      },
      "text/plain": [
       "HBox(children=(IntProgress(value=0, description='Epoch 10', layout=Layout(flex='2'), max=4093, style=ProgressS…"
      ]
     },
     "metadata": {},
     "output_type": "display_data"
    },
    {
     "data": {
      "application/vnd.jupyter.widget-view+json": {
       "model_id": "",
       "version_major": 2,
       "version_minor": 0
      },
      "text/plain": [
       "HBox(children=(IntProgress(value=0, description='Epoch 11', layout=Layout(flex='2'), max=4093, style=ProgressS…"
      ]
     },
     "metadata": {},
     "output_type": "display_data"
    },
    {
     "data": {
      "application/vnd.jupyter.widget-view+json": {
       "model_id": "",
       "version_major": 2,
       "version_minor": 0
      },
      "text/plain": [
       "HBox(children=(IntProgress(value=0, description='Epoch 12', layout=Layout(flex='2'), max=4093, style=ProgressS…"
      ]
     },
     "metadata": {},
     "output_type": "display_data"
    },
    {
     "data": {
      "application/vnd.jupyter.widget-view+json": {
       "model_id": "",
       "version_major": 2,
       "version_minor": 0
      },
      "text/plain": [
       "HBox(children=(IntProgress(value=0, description='Epoch 13', layout=Layout(flex='2'), max=4093, style=ProgressS…"
      ]
     },
     "metadata": {},
     "output_type": "display_data"
    },
    {
     "data": {
      "application/vnd.jupyter.widget-view+json": {
       "model_id": "",
       "version_major": 2,
       "version_minor": 0
      },
      "text/plain": [
       "HBox(children=(IntProgress(value=0, description='Epoch 14', layout=Layout(flex='2'), max=4093, style=ProgressS…"
      ]
     },
     "metadata": {},
     "output_type": "display_data"
    },
    {
     "data": {
      "application/vnd.jupyter.widget-view+json": {
       "model_id": "",
       "version_major": 2,
       "version_minor": 0
      },
      "text/plain": [
       "HBox(children=(IntProgress(value=0, description='Epoch 15', layout=Layout(flex='2'), max=4093, style=ProgressS…"
      ]
     },
     "metadata": {},
     "output_type": "display_data"
    },
    {
     "data": {
      "application/vnd.jupyter.widget-view+json": {
       "model_id": "",
       "version_major": 2,
       "version_minor": 0
      },
      "text/plain": [
       "HBox(children=(IntProgress(value=0, description='Epoch 16', layout=Layout(flex='2'), max=4093, style=ProgressS…"
      ]
     },
     "metadata": {},
     "output_type": "display_data"
    },
    {
     "data": {
      "application/vnd.jupyter.widget-view+json": {
       "model_id": "",
       "version_major": 2,
       "version_minor": 0
      },
      "text/plain": [
       "HBox(children=(IntProgress(value=0, description='Epoch 17', layout=Layout(flex='2'), max=4093, style=ProgressS…"
      ]
     },
     "metadata": {},
     "output_type": "display_data"
    },
    {
     "data": {
      "application/vnd.jupyter.widget-view+json": {
       "model_id": "",
       "version_major": 2,
       "version_minor": 0
      },
      "text/plain": [
       "HBox(children=(IntProgress(value=0, description='Epoch 18', layout=Layout(flex='2'), max=4093, style=ProgressS…"
      ]
     },
     "metadata": {},
     "output_type": "display_data"
    },
    {
     "data": {
      "application/vnd.jupyter.widget-view+json": {
       "model_id": "",
       "version_major": 2,
       "version_minor": 0
      },
      "text/plain": [
       "HBox(children=(IntProgress(value=0, description='Epoch 19', layout=Layout(flex='2'), max=4093, style=ProgressS…"
      ]
     },
     "metadata": {},
     "output_type": "display_data"
    },
    {
     "data": {
      "application/vnd.jupyter.widget-view+json": {
       "model_id": "",
       "version_major": 2,
       "version_minor": 0
      },
      "text/plain": [
       "HBox(children=(IntProgress(value=0, description='Epoch 20', layout=Layout(flex='2'), max=4093, style=ProgressS…"
      ]
     },
     "metadata": {},
     "output_type": "display_data"
    },
    {
     "data": {
      "application/vnd.jupyter.widget-view+json": {
       "model_id": "",
       "version_major": 2,
       "version_minor": 0
      },
      "text/plain": [
       "HBox(children=(IntProgress(value=0, description='Epoch 21', layout=Layout(flex='2'), max=4093, style=ProgressS…"
      ]
     },
     "metadata": {},
     "output_type": "display_data"
    },
    {
     "data": {
      "application/vnd.jupyter.widget-view+json": {
       "model_id": "",
       "version_major": 2,
       "version_minor": 0
      },
      "text/plain": [
       "HBox(children=(IntProgress(value=0, description='Epoch 22', layout=Layout(flex='2'), max=4093, style=ProgressS…"
      ]
     },
     "metadata": {},
     "output_type": "display_data"
    },
    {
     "data": {
      "application/vnd.jupyter.widget-view+json": {
       "model_id": "",
       "version_major": 2,
       "version_minor": 0
      },
      "text/plain": [
       "HBox(children=(IntProgress(value=0, description='Epoch 23', layout=Layout(flex='2'), max=4093, style=ProgressS…"
      ]
     },
     "metadata": {},
     "output_type": "display_data"
    },
    {
     "data": {
      "application/vnd.jupyter.widget-view+json": {
       "model_id": "",
       "version_major": 2,
       "version_minor": 0
      },
      "text/plain": [
       "HBox(children=(IntProgress(value=0, description='Epoch 24', layout=Layout(flex='2'), max=4093, style=ProgressS…"
      ]
     },
     "metadata": {},
     "output_type": "display_data"
    },
    {
     "data": {
      "application/vnd.jupyter.widget-view+json": {
       "model_id": "",
       "version_major": 2,
       "version_minor": 0
      },
      "text/plain": [
       "HBox(children=(IntProgress(value=0, description='Epoch 25', layout=Layout(flex='2'), max=4093, style=ProgressS…"
      ]
     },
     "metadata": {},
     "output_type": "display_data"
    },
    {
     "data": {
      "application/vnd.jupyter.widget-view+json": {
       "model_id": "",
       "version_major": 2,
       "version_minor": 0
      },
      "text/plain": [
       "HBox(children=(IntProgress(value=0, description='Epoch 26', layout=Layout(flex='2'), max=4093, style=ProgressS…"
      ]
     },
     "metadata": {},
     "output_type": "display_data"
    },
    {
     "data": {
      "application/vnd.jupyter.widget-view+json": {
       "model_id": "",
       "version_major": 2,
       "version_minor": 0
      },
      "text/plain": [
       "HBox(children=(IntProgress(value=0, description='Epoch 27', layout=Layout(flex='2'), max=4093, style=ProgressS…"
      ]
     },
     "metadata": {},
     "output_type": "display_data"
    },
    {
     "data": {
      "application/vnd.jupyter.widget-view+json": {
       "model_id": "",
       "version_major": 2,
       "version_minor": 0
      },
      "text/plain": [
       "HBox(children=(IntProgress(value=0, description='Epoch 28', layout=Layout(flex='2'), max=4093, style=ProgressS…"
      ]
     },
     "metadata": {},
     "output_type": "display_data"
    },
    {
     "data": {
      "application/vnd.jupyter.widget-view+json": {
       "model_id": "",
       "version_major": 2,
       "version_minor": 0
      },
      "text/plain": [
       "HBox(children=(IntProgress(value=0, description='Epoch 29', layout=Layout(flex='2'), max=4093, style=ProgressS…"
      ]
     },
     "metadata": {},
     "output_type": "display_data"
    },
    {
     "data": {
      "application/vnd.jupyter.widget-view+json": {
       "model_id": "",
       "version_major": 2,
       "version_minor": 0
      },
      "text/plain": [
       "HBox(children=(IntProgress(value=0, description='Epoch 30', layout=Layout(flex='2'), max=4093, style=ProgressS…"
      ]
     },
     "metadata": {},
     "output_type": "display_data"
    },
    {
     "data": {
      "application/vnd.jupyter.widget-view+json": {
       "model_id": "",
       "version_major": 2,
       "version_minor": 0
      },
      "text/plain": [
       "HBox(children=(IntProgress(value=0, description='Epoch 31', layout=Layout(flex='2'), max=4093, style=ProgressS…"
      ]
     },
     "metadata": {},
     "output_type": "display_data"
    },
    {
     "data": {
      "application/vnd.jupyter.widget-view+json": {
       "model_id": "",
       "version_major": 2,
       "version_minor": 0
      },
      "text/plain": [
       "HBox(children=(IntProgress(value=0, description='Epoch 32', layout=Layout(flex='2'), max=4093, style=ProgressS…"
      ]
     },
     "metadata": {},
     "output_type": "display_data"
    },
    {
     "data": {
      "application/vnd.jupyter.widget-view+json": {
       "model_id": "",
       "version_major": 2,
       "version_minor": 0
      },
      "text/plain": [
       "HBox(children=(IntProgress(value=0, description='Epoch 33', layout=Layout(flex='2'), max=4093, style=ProgressS…"
      ]
     },
     "metadata": {},
     "output_type": "display_data"
    },
    {
     "data": {
      "application/vnd.jupyter.widget-view+json": {
       "model_id": "",
       "version_major": 2,
       "version_minor": 0
      },
      "text/plain": [
       "HBox(children=(IntProgress(value=0, description='Epoch 34', layout=Layout(flex='2'), max=4093, style=ProgressS…"
      ]
     },
     "metadata": {},
     "output_type": "display_data"
    },
    {
     "data": {
      "application/vnd.jupyter.widget-view+json": {
       "model_id": "",
       "version_major": 2,
       "version_minor": 0
      },
      "text/plain": [
       "HBox(children=(IntProgress(value=0, description='Epoch 35', layout=Layout(flex='2'), max=4093, style=ProgressS…"
      ]
     },
     "metadata": {},
     "output_type": "display_data"
    },
    {
     "data": {
      "application/vnd.jupyter.widget-view+json": {
       "model_id": "",
       "version_major": 2,
       "version_minor": 0
      },
      "text/plain": [
       "HBox(children=(IntProgress(value=0, description='Epoch 36', layout=Layout(flex='2'), max=4093, style=ProgressS…"
      ]
     },
     "metadata": {},
     "output_type": "display_data"
    },
    {
     "data": {
      "application/vnd.jupyter.widget-view+json": {
       "model_id": "",
       "version_major": 2,
       "version_minor": 0
      },
      "text/plain": [
       "HBox(children=(IntProgress(value=0, description='Epoch 37', layout=Layout(flex='2'), max=4093, style=ProgressS…"
      ]
     },
     "metadata": {},
     "output_type": "display_data"
    },
    {
     "data": {
      "application/vnd.jupyter.widget-view+json": {
       "model_id": "",
       "version_major": 2,
       "version_minor": 0
      },
      "text/plain": [
       "HBox(children=(IntProgress(value=0, description='Epoch 38', layout=Layout(flex='2'), max=4093, style=ProgressS…"
      ]
     },
     "metadata": {},
     "output_type": "display_data"
    },
    {
     "data": {
      "application/vnd.jupyter.widget-view+json": {
       "model_id": "",
       "version_major": 2,
       "version_minor": 0
      },
      "text/plain": [
       "HBox(children=(IntProgress(value=0, description='Epoch 39', layout=Layout(flex='2'), max=4093, style=ProgressS…"
      ]
     },
     "metadata": {},
     "output_type": "display_data"
    },
    {
     "data": {
      "application/vnd.jupyter.widget-view+json": {
       "model_id": "",
       "version_major": 2,
       "version_minor": 0
      },
      "text/plain": [
       "HBox(children=(IntProgress(value=0, description='Epoch 40', layout=Layout(flex='2'), max=4093, style=ProgressS…"
      ]
     },
     "metadata": {},
     "output_type": "display_data"
    },
    {
     "data": {
      "application/vnd.jupyter.widget-view+json": {
       "model_id": "",
       "version_major": 2,
       "version_minor": 0
      },
      "text/plain": [
       "HBox(children=(IntProgress(value=0, description='Epoch 41', layout=Layout(flex='2'), max=4093, style=ProgressS…"
      ]
     },
     "metadata": {},
     "output_type": "display_data"
    },
    {
     "data": {
      "application/vnd.jupyter.widget-view+json": {
       "model_id": "",
       "version_major": 2,
       "version_minor": 0
      },
      "text/plain": [
       "HBox(children=(IntProgress(value=0, description='Epoch 42', layout=Layout(flex='2'), max=4093, style=ProgressS…"
      ]
     },
     "metadata": {},
     "output_type": "display_data"
    },
    {
     "data": {
      "application/vnd.jupyter.widget-view+json": {
       "model_id": "",
       "version_major": 2,
       "version_minor": 0
      },
      "text/plain": [
       "HBox(children=(IntProgress(value=0, description='Epoch 43', layout=Layout(flex='2'), max=4093, style=ProgressS…"
      ]
     },
     "metadata": {},
     "output_type": "display_data"
    },
    {
     "data": {
      "application/vnd.jupyter.widget-view+json": {
       "model_id": "",
       "version_major": 2,
       "version_minor": 0
      },
      "text/plain": [
       "HBox(children=(IntProgress(value=0, description='Epoch 44', layout=Layout(flex='2'), max=4093, style=ProgressS…"
      ]
     },
     "metadata": {},
     "output_type": "display_data"
    },
    {
     "data": {
      "application/vnd.jupyter.widget-view+json": {
       "model_id": "",
       "version_major": 2,
       "version_minor": 0
      },
      "text/plain": [
       "HBox(children=(IntProgress(value=0, description='Epoch 45', layout=Layout(flex='2'), max=4093, style=ProgressS…"
      ]
     },
     "metadata": {},
     "output_type": "display_data"
    },
    {
     "data": {
      "application/vnd.jupyter.widget-view+json": {
       "model_id": "",
       "version_major": 2,
       "version_minor": 0
      },
      "text/plain": [
       "HBox(children=(IntProgress(value=0, description='Epoch 46', layout=Layout(flex='2'), max=4093, style=ProgressS…"
      ]
     },
     "metadata": {},
     "output_type": "display_data"
    },
    {
     "data": {
      "application/vnd.jupyter.widget-view+json": {
       "model_id": "",
       "version_major": 2,
       "version_minor": 0
      },
      "text/plain": [
       "HBox(children=(IntProgress(value=0, description='Epoch 47', layout=Layout(flex='2'), max=4093, style=ProgressS…"
      ]
     },
     "metadata": {},
     "output_type": "display_data"
    },
    {
     "data": {
      "application/vnd.jupyter.widget-view+json": {
       "model_id": "",
       "version_major": 2,
       "version_minor": 0
      },
      "text/plain": [
       "HBox(children=(IntProgress(value=0, description='Epoch 48', layout=Layout(flex='2'), max=4093, style=ProgressS…"
      ]
     },
     "metadata": {},
     "output_type": "display_data"
    },
    {
     "data": {
      "application/vnd.jupyter.widget-view+json": {
       "model_id": "",
       "version_major": 2,
       "version_minor": 0
      },
      "text/plain": [
       "HBox(children=(IntProgress(value=0, description='Epoch 49', layout=Layout(flex='2'), max=4093, style=ProgressS…"
      ]
     },
     "metadata": {},
     "output_type": "display_data"
    },
    {
     "data": {
      "application/vnd.jupyter.widget-view+json": {
       "model_id": "",
       "version_major": 2,
       "version_minor": 0
      },
      "text/plain": [
       "HBox(children=(IntProgress(value=0, description='Epoch 50', layout=Layout(flex='2'), max=4093, style=ProgressS…"
      ]
     },
     "metadata": {},
     "output_type": "display_data"
    },
    {
     "data": {
      "application/vnd.jupyter.widget-view+json": {
       "model_id": "",
       "version_major": 2,
       "version_minor": 0
      },
      "text/plain": [
       "HBox(children=(IntProgress(value=0, description='Epoch 51', layout=Layout(flex='2'), max=4093, style=ProgressS…"
      ]
     },
     "metadata": {},
     "output_type": "display_data"
    },
    {
     "data": {
      "application/vnd.jupyter.widget-view+json": {
       "model_id": "",
       "version_major": 2,
       "version_minor": 0
      },
      "text/plain": [
       "HBox(children=(IntProgress(value=0, description='Epoch 52', layout=Layout(flex='2'), max=4093, style=ProgressS…"
      ]
     },
     "metadata": {},
     "output_type": "display_data"
    },
    {
     "data": {
      "application/vnd.jupyter.widget-view+json": {
       "model_id": "",
       "version_major": 2,
       "version_minor": 0
      },
      "text/plain": [
       "HBox(children=(IntProgress(value=0, description='Epoch 53', layout=Layout(flex='2'), max=4093, style=ProgressS…"
      ]
     },
     "metadata": {},
     "output_type": "display_data"
    },
    {
     "data": {
      "application/vnd.jupyter.widget-view+json": {
       "model_id": "",
       "version_major": 2,
       "version_minor": 0
      },
      "text/plain": [
       "HBox(children=(IntProgress(value=0, description='Epoch 54', layout=Layout(flex='2'), max=4093, style=ProgressS…"
      ]
     },
     "metadata": {},
     "output_type": "display_data"
    },
    {
     "data": {
      "application/vnd.jupyter.widget-view+json": {
       "model_id": "",
       "version_major": 2,
       "version_minor": 0
      },
      "text/plain": [
       "HBox(children=(IntProgress(value=0, description='Epoch 55', layout=Layout(flex='2'), max=4093, style=ProgressS…"
      ]
     },
     "metadata": {},
     "output_type": "display_data"
    },
    {
     "data": {
      "application/vnd.jupyter.widget-view+json": {
       "model_id": "",
       "version_major": 2,
       "version_minor": 0
      },
      "text/plain": [
       "HBox(children=(IntProgress(value=0, description='Epoch 56', layout=Layout(flex='2'), max=4093, style=ProgressS…"
      ]
     },
     "metadata": {},
     "output_type": "display_data"
    },
    {
     "data": {
      "application/vnd.jupyter.widget-view+json": {
       "model_id": "",
       "version_major": 2,
       "version_minor": 0
      },
      "text/plain": [
       "HBox(children=(IntProgress(value=0, description='Epoch 57', layout=Layout(flex='2'), max=4093, style=ProgressS…"
      ]
     },
     "metadata": {},
     "output_type": "display_data"
    },
    {
     "data": {
      "application/vnd.jupyter.widget-view+json": {
       "model_id": "",
       "version_major": 2,
       "version_minor": 0
      },
      "text/plain": [
       "HBox(children=(IntProgress(value=0, description='Epoch 58', layout=Layout(flex='2'), max=4093, style=ProgressS…"
      ]
     },
     "metadata": {},
     "output_type": "display_data"
    },
    {
     "data": {
      "application/vnd.jupyter.widget-view+json": {
       "model_id": "",
       "version_major": 2,
       "version_minor": 0
      },
      "text/plain": [
       "HBox(children=(IntProgress(value=0, description='Epoch 59', layout=Layout(flex='2'), max=4093, style=ProgressS…"
      ]
     },
     "metadata": {},
     "output_type": "display_data"
    },
    {
     "data": {
      "application/vnd.jupyter.widget-view+json": {
       "model_id": "",
       "version_major": 2,
       "version_minor": 0
      },
      "text/plain": [
       "HBox(children=(IntProgress(value=0, description='Epoch 60', layout=Layout(flex='2'), max=4093, style=ProgressS…"
      ]
     },
     "metadata": {},
     "output_type": "display_data"
    },
    {
     "data": {
      "application/vnd.jupyter.widget-view+json": {
       "model_id": "",
       "version_major": 2,
       "version_minor": 0
      },
      "text/plain": [
       "HBox(children=(IntProgress(value=0, description='Epoch 61', layout=Layout(flex='2'), max=4093, style=ProgressS…"
      ]
     },
     "metadata": {},
     "output_type": "display_data"
    },
    {
     "data": {
      "application/vnd.jupyter.widget-view+json": {
       "model_id": "",
       "version_major": 2,
       "version_minor": 0
      },
      "text/plain": [
       "HBox(children=(IntProgress(value=0, description='Epoch 62', layout=Layout(flex='2'), max=4093, style=ProgressS…"
      ]
     },
     "metadata": {},
     "output_type": "display_data"
    },
    {
     "data": {
      "application/vnd.jupyter.widget-view+json": {
       "model_id": "",
       "version_major": 2,
       "version_minor": 0
      },
      "text/plain": [
       "HBox(children=(IntProgress(value=0, description='Epoch 63', layout=Layout(flex='2'), max=4093, style=ProgressS…"
      ]
     },
     "metadata": {},
     "output_type": "display_data"
    },
    {
     "data": {
      "application/vnd.jupyter.widget-view+json": {
       "model_id": "",
       "version_major": 2,
       "version_minor": 0
      },
      "text/plain": [
       "HBox(children=(IntProgress(value=0, description='Epoch 64', layout=Layout(flex='2'), max=4093, style=ProgressS…"
      ]
     },
     "metadata": {},
     "output_type": "display_data"
    },
    {
     "data": {
      "application/vnd.jupyter.widget-view+json": {
       "model_id": "",
       "version_major": 2,
       "version_minor": 0
      },
      "text/plain": [
       "HBox(children=(IntProgress(value=0, description='Epoch 65', layout=Layout(flex='2'), max=4093, style=ProgressS…"
      ]
     },
     "metadata": {},
     "output_type": "display_data"
    },
    {
     "data": {
      "application/vnd.jupyter.widget-view+json": {
       "model_id": "",
       "version_major": 2,
       "version_minor": 0
      },
      "text/plain": [
       "HBox(children=(IntProgress(value=0, description='Epoch 66', layout=Layout(flex='2'), max=4093, style=ProgressS…"
      ]
     },
     "metadata": {},
     "output_type": "display_data"
    },
    {
     "data": {
      "application/vnd.jupyter.widget-view+json": {
       "model_id": "",
       "version_major": 2,
       "version_minor": 0
      },
      "text/plain": [
       "HBox(children=(IntProgress(value=0, description='Epoch 67', layout=Layout(flex='2'), max=4093, style=ProgressS…"
      ]
     },
     "metadata": {},
     "output_type": "display_data"
    },
    {
     "data": {
      "application/vnd.jupyter.widget-view+json": {
       "model_id": "",
       "version_major": 2,
       "version_minor": 0
      },
      "text/plain": [
       "HBox(children=(IntProgress(value=0, description='Epoch 68', layout=Layout(flex='2'), max=4093, style=ProgressS…"
      ]
     },
     "metadata": {},
     "output_type": "display_data"
    },
    {
     "data": {
      "application/vnd.jupyter.widget-view+json": {
       "model_id": "",
       "version_major": 2,
       "version_minor": 0
      },
      "text/plain": [
       "HBox(children=(IntProgress(value=0, description='Epoch 69', layout=Layout(flex='2'), max=4093, style=ProgressS…"
      ]
     },
     "metadata": {},
     "output_type": "display_data"
    },
    {
     "data": {
      "application/vnd.jupyter.widget-view+json": {
       "model_id": "",
       "version_major": 2,
       "version_minor": 0
      },
      "text/plain": [
       "HBox(children=(IntProgress(value=0, description='Epoch 70', layout=Layout(flex='2'), max=4093, style=ProgressS…"
      ]
     },
     "metadata": {},
     "output_type": "display_data"
    },
    {
     "data": {
      "application/vnd.jupyter.widget-view+json": {
       "model_id": "",
       "version_major": 2,
       "version_minor": 0
      },
      "text/plain": [
       "HBox(children=(IntProgress(value=0, description='Epoch 71', layout=Layout(flex='2'), max=4093, style=ProgressS…"
      ]
     },
     "metadata": {},
     "output_type": "display_data"
    },
    {
     "data": {
      "application/vnd.jupyter.widget-view+json": {
       "model_id": "",
       "version_major": 2,
       "version_minor": 0
      },
      "text/plain": [
       "HBox(children=(IntProgress(value=0, description='Epoch 72', layout=Layout(flex='2'), max=4093, style=ProgressS…"
      ]
     },
     "metadata": {},
     "output_type": "display_data"
    },
    {
     "data": {
      "application/vnd.jupyter.widget-view+json": {
       "model_id": "",
       "version_major": 2,
       "version_minor": 0
      },
      "text/plain": [
       "HBox(children=(IntProgress(value=0, description='Epoch 73', layout=Layout(flex='2'), max=4093, style=ProgressS…"
      ]
     },
     "metadata": {},
     "output_type": "display_data"
    },
    {
     "data": {
      "application/vnd.jupyter.widget-view+json": {
       "model_id": "",
       "version_major": 2,
       "version_minor": 0
      },
      "text/plain": [
       "HBox(children=(IntProgress(value=0, description='Epoch 74', layout=Layout(flex='2'), max=4093, style=ProgressS…"
      ]
     },
     "metadata": {},
     "output_type": "display_data"
    },
    {
     "data": {
      "application/vnd.jupyter.widget-view+json": {
       "model_id": "",
       "version_major": 2,
       "version_minor": 0
      },
      "text/plain": [
       "HBox(children=(IntProgress(value=0, description='Epoch 75', layout=Layout(flex='2'), max=4093, style=ProgressS…"
      ]
     },
     "metadata": {},
     "output_type": "display_data"
    },
    {
     "data": {
      "application/vnd.jupyter.widget-view+json": {
       "model_id": "",
       "version_major": 2,
       "version_minor": 0
      },
      "text/plain": [
       "HBox(children=(IntProgress(value=0, description='Epoch 76', layout=Layout(flex='2'), max=4093, style=ProgressS…"
      ]
     },
     "metadata": {},
     "output_type": "display_data"
    },
    {
     "data": {
      "application/vnd.jupyter.widget-view+json": {
       "model_id": "",
       "version_major": 2,
       "version_minor": 0
      },
      "text/plain": [
       "HBox(children=(IntProgress(value=0, description='Epoch 77', layout=Layout(flex='2'), max=4093, style=ProgressS…"
      ]
     },
     "metadata": {},
     "output_type": "display_data"
    },
    {
     "data": {
      "application/vnd.jupyter.widget-view+json": {
       "model_id": "",
       "version_major": 2,
       "version_minor": 0
      },
      "text/plain": [
       "HBox(children=(IntProgress(value=0, description='Epoch 78', layout=Layout(flex='2'), max=4093, style=ProgressS…"
      ]
     },
     "metadata": {},
     "output_type": "display_data"
    },
    {
     "data": {
      "application/vnd.jupyter.widget-view+json": {
       "model_id": "",
       "version_major": 2,
       "version_minor": 0
      },
      "text/plain": [
       "HBox(children=(IntProgress(value=0, description='Epoch 79', layout=Layout(flex='2'), max=4093, style=ProgressS…"
      ]
     },
     "metadata": {},
     "output_type": "display_data"
    },
    {
     "data": {
      "application/vnd.jupyter.widget-view+json": {
       "model_id": "",
       "version_major": 2,
       "version_minor": 0
      },
      "text/plain": [
       "HBox(children=(IntProgress(value=0, description='Epoch 80', layout=Layout(flex='2'), max=4093, style=ProgressS…"
      ]
     },
     "metadata": {},
     "output_type": "display_data"
    },
    {
     "data": {
      "application/vnd.jupyter.widget-view+json": {
       "model_id": "",
       "version_major": 2,
       "version_minor": 0
      },
      "text/plain": [
       "HBox(children=(IntProgress(value=0, description='Epoch 81', layout=Layout(flex='2'), max=4093, style=ProgressS…"
      ]
     },
     "metadata": {},
     "output_type": "display_data"
    },
    {
     "data": {
      "application/vnd.jupyter.widget-view+json": {
       "model_id": "",
       "version_major": 2,
       "version_minor": 0
      },
      "text/plain": [
       "HBox(children=(IntProgress(value=0, description='Epoch 82', layout=Layout(flex='2'), max=4093, style=ProgressS…"
      ]
     },
     "metadata": {},
     "output_type": "display_data"
    },
    {
     "data": {
      "application/vnd.jupyter.widget-view+json": {
       "model_id": "",
       "version_major": 2,
       "version_minor": 0
      },
      "text/plain": [
       "HBox(children=(IntProgress(value=0, description='Epoch 83', layout=Layout(flex='2'), max=4093, style=ProgressS…"
      ]
     },
     "metadata": {},
     "output_type": "display_data"
    },
    {
     "data": {
      "application/vnd.jupyter.widget-view+json": {
       "model_id": "",
       "version_major": 2,
       "version_minor": 0
      },
      "text/plain": [
       "HBox(children=(IntProgress(value=0, description='Epoch 84', layout=Layout(flex='2'), max=4093, style=ProgressS…"
      ]
     },
     "metadata": {},
     "output_type": "display_data"
    },
    {
     "data": {
      "application/vnd.jupyter.widget-view+json": {
       "model_id": "",
       "version_major": 2,
       "version_minor": 0
      },
      "text/plain": [
       "HBox(children=(IntProgress(value=0, description='Epoch 85', layout=Layout(flex='2'), max=4093, style=ProgressS…"
      ]
     },
     "metadata": {},
     "output_type": "display_data"
    },
    {
     "data": {
      "application/vnd.jupyter.widget-view+json": {
       "model_id": "",
       "version_major": 2,
       "version_minor": 0
      },
      "text/plain": [
       "HBox(children=(IntProgress(value=0, description='Epoch 86', layout=Layout(flex='2'), max=4093, style=ProgressS…"
      ]
     },
     "metadata": {},
     "output_type": "display_data"
    },
    {
     "data": {
      "application/vnd.jupyter.widget-view+json": {
       "model_id": "",
       "version_major": 2,
       "version_minor": 0
      },
      "text/plain": [
       "HBox(children=(IntProgress(value=0, description='Epoch 87', layout=Layout(flex='2'), max=4093, style=ProgressS…"
      ]
     },
     "metadata": {},
     "output_type": "display_data"
    },
    {
     "data": {
      "application/vnd.jupyter.widget-view+json": {
       "model_id": "",
       "version_major": 2,
       "version_minor": 0
      },
      "text/plain": [
       "HBox(children=(IntProgress(value=0, description='Epoch 88', layout=Layout(flex='2'), max=4093, style=ProgressS…"
      ]
     },
     "metadata": {},
     "output_type": "display_data"
    },
    {
     "data": {
      "application/vnd.jupyter.widget-view+json": {
       "model_id": "",
       "version_major": 2,
       "version_minor": 0
      },
      "text/plain": [
       "HBox(children=(IntProgress(value=0, description='Epoch 89', layout=Layout(flex='2'), max=4093, style=ProgressS…"
      ]
     },
     "metadata": {},
     "output_type": "display_data"
    },
    {
     "data": {
      "application/vnd.jupyter.widget-view+json": {
       "model_id": "",
       "version_major": 2,
       "version_minor": 0
      },
      "text/plain": [
       "HBox(children=(IntProgress(value=0, description='Epoch 90', layout=Layout(flex='2'), max=4093, style=ProgressS…"
      ]
     },
     "metadata": {},
     "output_type": "display_data"
    },
    {
     "data": {
      "application/vnd.jupyter.widget-view+json": {
       "model_id": "",
       "version_major": 2,
       "version_minor": 0
      },
      "text/plain": [
       "HBox(children=(IntProgress(value=0, description='Epoch 91', layout=Layout(flex='2'), max=4093, style=ProgressS…"
      ]
     },
     "metadata": {},
     "output_type": "display_data"
    },
    {
     "data": {
      "application/vnd.jupyter.widget-view+json": {
       "model_id": "",
       "version_major": 2,
       "version_minor": 0
      },
      "text/plain": [
       "HBox(children=(IntProgress(value=0, description='Epoch 92', layout=Layout(flex='2'), max=4093, style=ProgressS…"
      ]
     },
     "metadata": {},
     "output_type": "display_data"
    },
    {
     "data": {
      "application/vnd.jupyter.widget-view+json": {
       "model_id": "",
       "version_major": 2,
       "version_minor": 0
      },
      "text/plain": [
       "HBox(children=(IntProgress(value=0, description='Epoch 93', layout=Layout(flex='2'), max=4093, style=ProgressS…"
      ]
     },
     "metadata": {},
     "output_type": "display_data"
    },
    {
     "data": {
      "application/vnd.jupyter.widget-view+json": {
       "model_id": "",
       "version_major": 2,
       "version_minor": 0
      },
      "text/plain": [
       "HBox(children=(IntProgress(value=0, description='Epoch 94', layout=Layout(flex='2'), max=4093, style=ProgressS…"
      ]
     },
     "metadata": {},
     "output_type": "display_data"
    },
    {
     "data": {
      "application/vnd.jupyter.widget-view+json": {
       "model_id": "",
       "version_major": 2,
       "version_minor": 0
      },
      "text/plain": [
       "HBox(children=(IntProgress(value=0, description='Epoch 95', layout=Layout(flex='2'), max=4093, style=ProgressS…"
      ]
     },
     "metadata": {},
     "output_type": "display_data"
    },
    {
     "data": {
      "application/vnd.jupyter.widget-view+json": {
       "model_id": "",
       "version_major": 2,
       "version_minor": 0
      },
      "text/plain": [
       "HBox(children=(IntProgress(value=0, description='Epoch 96', layout=Layout(flex='2'), max=4093, style=ProgressS…"
      ]
     },
     "metadata": {},
     "output_type": "display_data"
    },
    {
     "data": {
      "application/vnd.jupyter.widget-view+json": {
       "model_id": "",
       "version_major": 2,
       "version_minor": 0
      },
      "text/plain": [
       "HBox(children=(IntProgress(value=0, description='Epoch 97', layout=Layout(flex='2'), max=4093, style=ProgressS…"
      ]
     },
     "metadata": {},
     "output_type": "display_data"
    },
    {
     "data": {
      "application/vnd.jupyter.widget-view+json": {
       "model_id": "",
       "version_major": 2,
       "version_minor": 0
      },
      "text/plain": [
       "HBox(children=(IntProgress(value=0, description='Epoch 98', layout=Layout(flex='2'), max=4093, style=ProgressS…"
      ]
     },
     "metadata": {},
     "output_type": "display_data"
    },
    {
     "data": {
      "application/vnd.jupyter.widget-view+json": {
       "model_id": "",
       "version_major": 2,
       "version_minor": 0
      },
      "text/plain": [
       "HBox(children=(IntProgress(value=0, description='Epoch 99', layout=Layout(flex='2'), max=4093, style=ProgressS…"
      ]
     },
     "metadata": {},
     "output_type": "display_data"
    },
    {
     "data": {
      "application/vnd.jupyter.widget-view+json": {
       "model_id": "",
       "version_major": 2,
       "version_minor": 0
      },
      "text/plain": [
       "HBox(children=(IntProgress(value=0, description='Epoch 100', layout=Layout(flex='2'), max=4093, style=Progress…"
      ]
     },
     "metadata": {},
     "output_type": "display_data"
    },
    {
     "data": {
      "application/vnd.jupyter.widget-view+json": {
       "model_id": "",
       "version_major": 2,
       "version_minor": 0
      },
      "text/plain": [
       "HBox(children=(IntProgress(value=0, description='Epoch 101', layout=Layout(flex='2'), max=4093, style=Progress…"
      ]
     },
     "metadata": {},
     "output_type": "display_data"
    },
    {
     "data": {
      "application/vnd.jupyter.widget-view+json": {
       "model_id": "",
       "version_major": 2,
       "version_minor": 0
      },
      "text/plain": [
       "HBox(children=(IntProgress(value=0, description='Epoch 102', layout=Layout(flex='2'), max=4093, style=Progress…"
      ]
     },
     "metadata": {},
     "output_type": "display_data"
    },
    {
     "data": {
      "application/vnd.jupyter.widget-view+json": {
       "model_id": "",
       "version_major": 2,
       "version_minor": 0
      },
      "text/plain": [
       "HBox(children=(IntProgress(value=0, description='Epoch 103', layout=Layout(flex='2'), max=4093, style=Progress…"
      ]
     },
     "metadata": {},
     "output_type": "display_data"
    },
    {
     "data": {
      "application/vnd.jupyter.widget-view+json": {
       "model_id": "",
       "version_major": 2,
       "version_minor": 0
      },
      "text/plain": [
       "HBox(children=(IntProgress(value=0, description='Epoch 104', layout=Layout(flex='2'), max=4093, style=Progress…"
      ]
     },
     "metadata": {},
     "output_type": "display_data"
    },
    {
     "data": {
      "application/vnd.jupyter.widget-view+json": {
       "model_id": "",
       "version_major": 2,
       "version_minor": 0
      },
      "text/plain": [
       "HBox(children=(IntProgress(value=0, description='Epoch 105', layout=Layout(flex='2'), max=4093, style=Progress…"
      ]
     },
     "metadata": {},
     "output_type": "display_data"
    },
    {
     "data": {
      "application/vnd.jupyter.widget-view+json": {
       "model_id": "",
       "version_major": 2,
       "version_minor": 0
      },
      "text/plain": [
       "HBox(children=(IntProgress(value=0, description='Epoch 106', layout=Layout(flex='2'), max=4093, style=Progress…"
      ]
     },
     "metadata": {},
     "output_type": "display_data"
    },
    {
     "name": "stdout",
     "output_type": "stream",
     "text": [
      "\n"
     ]
    }
   ],
   "source": [
    "from environments_utils import is_notebook\n",
    "from keras.callbacks import EarlyStopping\n",
    "from keras_tqdm import TQDMCallback, TQDMNotebookCallback\n",
    "ktqdm = TQDMNotebookCallback if is_notebook() else TQDMCallback\n",
    "\n",
    "mlp_history = mlp.fit(\n",
    "    epi_train, class_train,\n",
    "    epochs=200,\n",
    "    shuffle=True,\n",
    "    batch_size=1000,\n",
    "    verbose=0,\n",
    "    validation_data=(epi_test, class_test),\n",
    "    callbacks=[\n",
    "        ktqdm(),\n",
    "        EarlyStopping(\n",
    "            monitor=\"auprc\",\n",
    "            min_delta=0.001,\n",
    "            patience=20,\n",
    "            mode=\"max\",\n",
    "            restore_best_weights=True\n",
    "        )\n",
    "    ]\n",
    ").history"
   ]
  },
  {
   "cell_type": "code",
   "execution_count": 19,
   "metadata": {},
   "outputs": [
    {
     "data": {
      "text/plain": [
       "<Figure size 1500x500 with 3 Axes>"
      ]
     },
     "metadata": {},
     "output_type": "display_data"
    }
   ],
   "source": [
    "from plot_keras_history import plot_history\n",
    "import matplotlib.pyplot as plt\n",
    "plot_history(mlp_history)\n",
    "plt.show()"
   ]
  },
  {
   "cell_type": "markdown",
   "metadata": {},
   "source": [
    "## Preparing a CNN"
   ]
  },
  {
   "cell_type": "code",
   "execution_count": 20,
   "metadata": {},
   "outputs": [],
   "source": [
    "from keras.layers import Conv1D, MaxPool1D, Flatten\n",
    "\n",
    "set_seed(42)\n",
    "\n",
    "cnn = Sequential([\n",
    "    Conv1D(64, 5, activation=\"relu\"),\n",
    "    MaxPool1D(2),\n",
    "    Conv1D(64, 5, activation=\"relu\"),\n",
    "    MaxPool1D(2),\n",
    "    Dropout(0.1),\n",
    "    Conv1D(32, 5, activation=\"relu\"),\n",
    "    MaxPool1D(2),\n",
    "    Conv1D(32, 5, activation=\"relu\"),\n",
    "    MaxPool1D(2),\n",
    "    Dropout(0.1),\n",
    "    Flatten(),\n",
    "    Dense(32, activation=\"relu\"),\n",
    "    Dense(32, activation=\"relu\"),\n",
    "    Dropout(0.1),\n",
    "    Dense(1, activation=\"sigmoid\")\n",
    "])\n",
    "\n",
    "cnn.compile(\n",
    "    optimizer=\"nadam\",\n",
    "    loss=\"binary_crossentropy\",\n",
    "    metrics=[\"auprc\", \"auroc\"]\n",
    ")"
   ]
  },
  {
   "cell_type": "markdown",
   "metadata": {},
   "source": [
    "## Training the CNN"
   ]
  },
  {
   "cell_type": "code",
   "execution_count": 21,
   "metadata": {},
   "outputs": [
    {
     "data": {
      "application/vnd.jupyter.widget-view+json": {
       "model_id": "8255bb153162419b95e97a62c56c66cf",
       "version_major": 2,
       "version_minor": 0
      },
      "text/plain": [
       "HBox(children=(IntProgress(value=0, description='Training', layout=Layout(flex='2'), max=200, style=ProgressSt…"
      ]
     },
     "metadata": {},
     "output_type": "display_data"
    },
    {
     "data": {
      "application/vnd.jupyter.widget-view+json": {
       "model_id": "",
       "version_major": 2,
       "version_minor": 0
      },
      "text/plain": [
       "HBox(children=(IntProgress(value=0, description='Epoch 0', layout=Layout(flex='2'), max=4093, style=ProgressSt…"
      ]
     },
     "metadata": {},
     "output_type": "display_data"
    },
    {
     "data": {
      "application/vnd.jupyter.widget-view+json": {
       "model_id": "",
       "version_major": 2,
       "version_minor": 0
      },
      "text/plain": [
       "HBox(children=(IntProgress(value=0, description='Epoch 1', layout=Layout(flex='2'), max=4093, style=ProgressSt…"
      ]
     },
     "metadata": {},
     "output_type": "display_data"
    },
    {
     "data": {
      "application/vnd.jupyter.widget-view+json": {
       "model_id": "",
       "version_major": 2,
       "version_minor": 0
      },
      "text/plain": [
       "HBox(children=(IntProgress(value=0, description='Epoch 2', layout=Layout(flex='2'), max=4093, style=ProgressSt…"
      ]
     },
     "metadata": {},
     "output_type": "display_data"
    },
    {
     "data": {
      "application/vnd.jupyter.widget-view+json": {
       "model_id": "",
       "version_major": 2,
       "version_minor": 0
      },
      "text/plain": [
       "HBox(children=(IntProgress(value=0, description='Epoch 3', layout=Layout(flex='2'), max=4093, style=ProgressSt…"
      ]
     },
     "metadata": {},
     "output_type": "display_data"
    },
    {
     "data": {
      "application/vnd.jupyter.widget-view+json": {
       "model_id": "",
       "version_major": 2,
       "version_minor": 0
      },
      "text/plain": [
       "HBox(children=(IntProgress(value=0, description='Epoch 4', layout=Layout(flex='2'), max=4093, style=ProgressSt…"
      ]
     },
     "metadata": {},
     "output_type": "display_data"
    },
    {
     "data": {
      "application/vnd.jupyter.widget-view+json": {
       "model_id": "",
       "version_major": 2,
       "version_minor": 0
      },
      "text/plain": [
       "HBox(children=(IntProgress(value=0, description='Epoch 5', layout=Layout(flex='2'), max=4093, style=ProgressSt…"
      ]
     },
     "metadata": {},
     "output_type": "display_data"
    },
    {
     "data": {
      "application/vnd.jupyter.widget-view+json": {
       "model_id": "",
       "version_major": 2,
       "version_minor": 0
      },
      "text/plain": [
       "HBox(children=(IntProgress(value=0, description='Epoch 6', layout=Layout(flex='2'), max=4093, style=ProgressSt…"
      ]
     },
     "metadata": {},
     "output_type": "display_data"
    },
    {
     "data": {
      "application/vnd.jupyter.widget-view+json": {
       "model_id": "",
       "version_major": 2,
       "version_minor": 0
      },
      "text/plain": [
       "HBox(children=(IntProgress(value=0, description='Epoch 7', layout=Layout(flex='2'), max=4093, style=ProgressSt…"
      ]
     },
     "metadata": {},
     "output_type": "display_data"
    },
    {
     "data": {
      "application/vnd.jupyter.widget-view+json": {
       "model_id": "",
       "version_major": 2,
       "version_minor": 0
      },
      "text/plain": [
       "HBox(children=(IntProgress(value=0, description='Epoch 8', layout=Layout(flex='2'), max=4093, style=ProgressSt…"
      ]
     },
     "metadata": {},
     "output_type": "display_data"
    },
    {
     "data": {
      "application/vnd.jupyter.widget-view+json": {
       "model_id": "",
       "version_major": 2,
       "version_minor": 0
      },
      "text/plain": [
       "HBox(children=(IntProgress(value=0, description='Epoch 9', layout=Layout(flex='2'), max=4093, style=ProgressSt…"
      ]
     },
     "metadata": {},
     "output_type": "display_data"
    },
    {
     "data": {
      "application/vnd.jupyter.widget-view+json": {
       "model_id": "",
       "version_major": 2,
       "version_minor": 0
      },
      "text/plain": [
       "HBox(children=(IntProgress(value=0, description='Epoch 10', layout=Layout(flex='2'), max=4093, style=ProgressS…"
      ]
     },
     "metadata": {},
     "output_type": "display_data"
    },
    {
     "data": {
      "application/vnd.jupyter.widget-view+json": {
       "model_id": "",
       "version_major": 2,
       "version_minor": 0
      },
      "text/plain": [
       "HBox(children=(IntProgress(value=0, description='Epoch 11', layout=Layout(flex='2'), max=4093, style=ProgressS…"
      ]
     },
     "metadata": {},
     "output_type": "display_data"
    },
    {
     "data": {
      "application/vnd.jupyter.widget-view+json": {
       "model_id": "",
       "version_major": 2,
       "version_minor": 0
      },
      "text/plain": [
       "HBox(children=(IntProgress(value=0, description='Epoch 12', layout=Layout(flex='2'), max=4093, style=ProgressS…"
      ]
     },
     "metadata": {},
     "output_type": "display_data"
    },
    {
     "data": {
      "application/vnd.jupyter.widget-view+json": {
       "model_id": "",
       "version_major": 2,
       "version_minor": 0
      },
      "text/plain": [
       "HBox(children=(IntProgress(value=0, description='Epoch 13', layout=Layout(flex='2'), max=4093, style=ProgressS…"
      ]
     },
     "metadata": {},
     "output_type": "display_data"
    },
    {
     "data": {
      "application/vnd.jupyter.widget-view+json": {
       "model_id": "",
       "version_major": 2,
       "version_minor": 0
      },
      "text/plain": [
       "HBox(children=(IntProgress(value=0, description='Epoch 14', layout=Layout(flex='2'), max=4093, style=ProgressS…"
      ]
     },
     "metadata": {},
     "output_type": "display_data"
    },
    {
     "data": {
      "application/vnd.jupyter.widget-view+json": {
       "model_id": "",
       "version_major": 2,
       "version_minor": 0
      },
      "text/plain": [
       "HBox(children=(IntProgress(value=0, description='Epoch 15', layout=Layout(flex='2'), max=4093, style=ProgressS…"
      ]
     },
     "metadata": {},
     "output_type": "display_data"
    },
    {
     "data": {
      "application/vnd.jupyter.widget-view+json": {
       "model_id": "",
       "version_major": 2,
       "version_minor": 0
      },
      "text/plain": [
       "HBox(children=(IntProgress(value=0, description='Epoch 16', layout=Layout(flex='2'), max=4093, style=ProgressS…"
      ]
     },
     "metadata": {},
     "output_type": "display_data"
    },
    {
     "data": {
      "application/vnd.jupyter.widget-view+json": {
       "model_id": "",
       "version_major": 2,
       "version_minor": 0
      },
      "text/plain": [
       "HBox(children=(IntProgress(value=0, description='Epoch 17', layout=Layout(flex='2'), max=4093, style=ProgressS…"
      ]
     },
     "metadata": {},
     "output_type": "display_data"
    },
    {
     "data": {
      "application/vnd.jupyter.widget-view+json": {
       "model_id": "",
       "version_major": 2,
       "version_minor": 0
      },
      "text/plain": [
       "HBox(children=(IntProgress(value=0, description='Epoch 18', layout=Layout(flex='2'), max=4093, style=ProgressS…"
      ]
     },
     "metadata": {},
     "output_type": "display_data"
    },
    {
     "data": {
      "application/vnd.jupyter.widget-view+json": {
       "model_id": "",
       "version_major": 2,
       "version_minor": 0
      },
      "text/plain": [
       "HBox(children=(IntProgress(value=0, description='Epoch 19', layout=Layout(flex='2'), max=4093, style=ProgressS…"
      ]
     },
     "metadata": {},
     "output_type": "display_data"
    },
    {
     "data": {
      "application/vnd.jupyter.widget-view+json": {
       "model_id": "",
       "version_major": 2,
       "version_minor": 0
      },
      "text/plain": [
       "HBox(children=(IntProgress(value=0, description='Epoch 20', layout=Layout(flex='2'), max=4093, style=ProgressS…"
      ]
     },
     "metadata": {},
     "output_type": "display_data"
    },
    {
     "data": {
      "application/vnd.jupyter.widget-view+json": {
       "model_id": "",
       "version_major": 2,
       "version_minor": 0
      },
      "text/plain": [
       "HBox(children=(IntProgress(value=0, description='Epoch 21', layout=Layout(flex='2'), max=4093, style=ProgressS…"
      ]
     },
     "metadata": {},
     "output_type": "display_data"
    },
    {
     "data": {
      "application/vnd.jupyter.widget-view+json": {
       "model_id": "",
       "version_major": 2,
       "version_minor": 0
      },
      "text/plain": [
       "HBox(children=(IntProgress(value=0, description='Epoch 22', layout=Layout(flex='2'), max=4093, style=ProgressS…"
      ]
     },
     "metadata": {},
     "output_type": "display_data"
    },
    {
     "data": {
      "application/vnd.jupyter.widget-view+json": {
       "model_id": "",
       "version_major": 2,
       "version_minor": 0
      },
      "text/plain": [
       "HBox(children=(IntProgress(value=0, description='Epoch 23', layout=Layout(flex='2'), max=4093, style=ProgressS…"
      ]
     },
     "metadata": {},
     "output_type": "display_data"
    },
    {
     "data": {
      "application/vnd.jupyter.widget-view+json": {
       "model_id": "",
       "version_major": 2,
       "version_minor": 0
      },
      "text/plain": [
       "HBox(children=(IntProgress(value=0, description='Epoch 24', layout=Layout(flex='2'), max=4093, style=ProgressS…"
      ]
     },
     "metadata": {},
     "output_type": "display_data"
    },
    {
     "data": {
      "application/vnd.jupyter.widget-view+json": {
       "model_id": "",
       "version_major": 2,
       "version_minor": 0
      },
      "text/plain": [
       "HBox(children=(IntProgress(value=0, description='Epoch 25', layout=Layout(flex='2'), max=4093, style=ProgressS…"
      ]
     },
     "metadata": {},
     "output_type": "display_data"
    },
    {
     "data": {
      "application/vnd.jupyter.widget-view+json": {
       "model_id": "",
       "version_major": 2,
       "version_minor": 0
      },
      "text/plain": [
       "HBox(children=(IntProgress(value=0, description='Epoch 26', layout=Layout(flex='2'), max=4093, style=ProgressS…"
      ]
     },
     "metadata": {},
     "output_type": "display_data"
    },
    {
     "data": {
      "application/vnd.jupyter.widget-view+json": {
       "model_id": "",
       "version_major": 2,
       "version_minor": 0
      },
      "text/plain": [
       "HBox(children=(IntProgress(value=0, description='Epoch 27', layout=Layout(flex='2'), max=4093, style=ProgressS…"
      ]
     },
     "metadata": {},
     "output_type": "display_data"
    },
    {
     "data": {
      "application/vnd.jupyter.widget-view+json": {
       "model_id": "",
       "version_major": 2,
       "version_minor": 0
      },
      "text/plain": [
       "HBox(children=(IntProgress(value=0, description='Epoch 28', layout=Layout(flex='2'), max=4093, style=ProgressS…"
      ]
     },
     "metadata": {},
     "output_type": "display_data"
    },
    {
     "data": {
      "application/vnd.jupyter.widget-view+json": {
       "model_id": "",
       "version_major": 2,
       "version_minor": 0
      },
      "text/plain": [
       "HBox(children=(IntProgress(value=0, description='Epoch 29', layout=Layout(flex='2'), max=4093, style=ProgressS…"
      ]
     },
     "metadata": {},
     "output_type": "display_data"
    },
    {
     "data": {
      "application/vnd.jupyter.widget-view+json": {
       "model_id": "",
       "version_major": 2,
       "version_minor": 0
      },
      "text/plain": [
       "HBox(children=(IntProgress(value=0, description='Epoch 30', layout=Layout(flex='2'), max=4093, style=ProgressS…"
      ]
     },
     "metadata": {},
     "output_type": "display_data"
    },
    {
     "data": {
      "application/vnd.jupyter.widget-view+json": {
       "model_id": "",
       "version_major": 2,
       "version_minor": 0
      },
      "text/plain": [
       "HBox(children=(IntProgress(value=0, description='Epoch 31', layout=Layout(flex='2'), max=4093, style=ProgressS…"
      ]
     },
     "metadata": {},
     "output_type": "display_data"
    },
    {
     "data": {
      "application/vnd.jupyter.widget-view+json": {
       "model_id": "",
       "version_major": 2,
       "version_minor": 0
      },
      "text/plain": [
       "HBox(children=(IntProgress(value=0, description='Epoch 32', layout=Layout(flex='2'), max=4093, style=ProgressS…"
      ]
     },
     "metadata": {},
     "output_type": "display_data"
    },
    {
     "data": {
      "application/vnd.jupyter.widget-view+json": {
       "model_id": "",
       "version_major": 2,
       "version_minor": 0
      },
      "text/plain": [
       "HBox(children=(IntProgress(value=0, description='Epoch 33', layout=Layout(flex='2'), max=4093, style=ProgressS…"
      ]
     },
     "metadata": {},
     "output_type": "display_data"
    },
    {
     "data": {
      "application/vnd.jupyter.widget-view+json": {
       "model_id": "",
       "version_major": 2,
       "version_minor": 0
      },
      "text/plain": [
       "HBox(children=(IntProgress(value=0, description='Epoch 34', layout=Layout(flex='2'), max=4093, style=ProgressS…"
      ]
     },
     "metadata": {},
     "output_type": "display_data"
    },
    {
     "data": {
      "application/vnd.jupyter.widget-view+json": {
       "model_id": "",
       "version_major": 2,
       "version_minor": 0
      },
      "text/plain": [
       "HBox(children=(IntProgress(value=0, description='Epoch 35', layout=Layout(flex='2'), max=4093, style=ProgressS…"
      ]
     },
     "metadata": {},
     "output_type": "display_data"
    },
    {
     "data": {
      "application/vnd.jupyter.widget-view+json": {
       "model_id": "",
       "version_major": 2,
       "version_minor": 0
      },
      "text/plain": [
       "HBox(children=(IntProgress(value=0, description='Epoch 36', layout=Layout(flex='2'), max=4093, style=ProgressS…"
      ]
     },
     "metadata": {},
     "output_type": "display_data"
    },
    {
     "data": {
      "application/vnd.jupyter.widget-view+json": {
       "model_id": "",
       "version_major": 2,
       "version_minor": 0
      },
      "text/plain": [
       "HBox(children=(IntProgress(value=0, description='Epoch 37', layout=Layout(flex='2'), max=4093, style=ProgressS…"
      ]
     },
     "metadata": {},
     "output_type": "display_data"
    },
    {
     "data": {
      "application/vnd.jupyter.widget-view+json": {
       "model_id": "",
       "version_major": 2,
       "version_minor": 0
      },
      "text/plain": [
       "HBox(children=(IntProgress(value=0, description='Epoch 38', layout=Layout(flex='2'), max=4093, style=ProgressS…"
      ]
     },
     "metadata": {},
     "output_type": "display_data"
    },
    {
     "data": {
      "application/vnd.jupyter.widget-view+json": {
       "model_id": "",
       "version_major": 2,
       "version_minor": 0
      },
      "text/plain": [
       "HBox(children=(IntProgress(value=0, description='Epoch 39', layout=Layout(flex='2'), max=4093, style=ProgressS…"
      ]
     },
     "metadata": {},
     "output_type": "display_data"
    },
    {
     "data": {
      "application/vnd.jupyter.widget-view+json": {
       "model_id": "",
       "version_major": 2,
       "version_minor": 0
      },
      "text/plain": [
       "HBox(children=(IntProgress(value=0, description='Epoch 40', layout=Layout(flex='2'), max=4093, style=ProgressS…"
      ]
     },
     "metadata": {},
     "output_type": "display_data"
    },
    {
     "data": {
      "application/vnd.jupyter.widget-view+json": {
       "model_id": "",
       "version_major": 2,
       "version_minor": 0
      },
      "text/plain": [
       "HBox(children=(IntProgress(value=0, description='Epoch 41', layout=Layout(flex='2'), max=4093, style=ProgressS…"
      ]
     },
     "metadata": {},
     "output_type": "display_data"
    },
    {
     "data": {
      "application/vnd.jupyter.widget-view+json": {
       "model_id": "",
       "version_major": 2,
       "version_minor": 0
      },
      "text/plain": [
       "HBox(children=(IntProgress(value=0, description='Epoch 42', layout=Layout(flex='2'), max=4093, style=ProgressS…"
      ]
     },
     "metadata": {},
     "output_type": "display_data"
    },
    {
     "data": {
      "application/vnd.jupyter.widget-view+json": {
       "model_id": "",
       "version_major": 2,
       "version_minor": 0
      },
      "text/plain": [
       "HBox(children=(IntProgress(value=0, description='Epoch 43', layout=Layout(flex='2'), max=4093, style=ProgressS…"
      ]
     },
     "metadata": {},
     "output_type": "display_data"
    },
    {
     "data": {
      "application/vnd.jupyter.widget-view+json": {
       "model_id": "",
       "version_major": 2,
       "version_minor": 0
      },
      "text/plain": [
       "HBox(children=(IntProgress(value=0, description='Epoch 44', layout=Layout(flex='2'), max=4093, style=ProgressS…"
      ]
     },
     "metadata": {},
     "output_type": "display_data"
    },
    {
     "data": {
      "application/vnd.jupyter.widget-view+json": {
       "model_id": "",
       "version_major": 2,
       "version_minor": 0
      },
      "text/plain": [
       "HBox(children=(IntProgress(value=0, description='Epoch 45', layout=Layout(flex='2'), max=4093, style=ProgressS…"
      ]
     },
     "metadata": {},
     "output_type": "display_data"
    },
    {
     "data": {
      "application/vnd.jupyter.widget-view+json": {
       "model_id": "",
       "version_major": 2,
       "version_minor": 0
      },
      "text/plain": [
       "HBox(children=(IntProgress(value=0, description='Epoch 46', layout=Layout(flex='2'), max=4093, style=ProgressS…"
      ]
     },
     "metadata": {},
     "output_type": "display_data"
    },
    {
     "data": {
      "application/vnd.jupyter.widget-view+json": {
       "model_id": "",
       "version_major": 2,
       "version_minor": 0
      },
      "text/plain": [
       "HBox(children=(IntProgress(value=0, description='Epoch 47', layout=Layout(flex='2'), max=4093, style=ProgressS…"
      ]
     },
     "metadata": {},
     "output_type": "display_data"
    },
    {
     "data": {
      "application/vnd.jupyter.widget-view+json": {
       "model_id": "",
       "version_major": 2,
       "version_minor": 0
      },
      "text/plain": [
       "HBox(children=(IntProgress(value=0, description='Epoch 48', layout=Layout(flex='2'), max=4093, style=ProgressS…"
      ]
     },
     "metadata": {},
     "output_type": "display_data"
    },
    {
     "data": {
      "application/vnd.jupyter.widget-view+json": {
       "model_id": "",
       "version_major": 2,
       "version_minor": 0
      },
      "text/plain": [
       "HBox(children=(IntProgress(value=0, description='Epoch 49', layout=Layout(flex='2'), max=4093, style=ProgressS…"
      ]
     },
     "metadata": {},
     "output_type": "display_data"
    },
    {
     "data": {
      "application/vnd.jupyter.widget-view+json": {
       "model_id": "",
       "version_major": 2,
       "version_minor": 0
      },
      "text/plain": [
       "HBox(children=(IntProgress(value=0, description='Epoch 50', layout=Layout(flex='2'), max=4093, style=ProgressS…"
      ]
     },
     "metadata": {},
     "output_type": "display_data"
    },
    {
     "data": {
      "application/vnd.jupyter.widget-view+json": {
       "model_id": "",
       "version_major": 2,
       "version_minor": 0
      },
      "text/plain": [
       "HBox(children=(IntProgress(value=0, description='Epoch 51', layout=Layout(flex='2'), max=4093, style=ProgressS…"
      ]
     },
     "metadata": {},
     "output_type": "display_data"
    },
    {
     "data": {
      "application/vnd.jupyter.widget-view+json": {
       "model_id": "",
       "version_major": 2,
       "version_minor": 0
      },
      "text/plain": [
       "HBox(children=(IntProgress(value=0, description='Epoch 52', layout=Layout(flex='2'), max=4093, style=ProgressS…"
      ]
     },
     "metadata": {},
     "output_type": "display_data"
    },
    {
     "data": {
      "application/vnd.jupyter.widget-view+json": {
       "model_id": "",
       "version_major": 2,
       "version_minor": 0
      },
      "text/plain": [
       "HBox(children=(IntProgress(value=0, description='Epoch 53', layout=Layout(flex='2'), max=4093, style=ProgressS…"
      ]
     },
     "metadata": {},
     "output_type": "display_data"
    },
    {
     "data": {
      "application/vnd.jupyter.widget-view+json": {
       "model_id": "",
       "version_major": 2,
       "version_minor": 0
      },
      "text/plain": [
       "HBox(children=(IntProgress(value=0, description='Epoch 54', layout=Layout(flex='2'), max=4093, style=ProgressS…"
      ]
     },
     "metadata": {},
     "output_type": "display_data"
    },
    {
     "data": {
      "application/vnd.jupyter.widget-view+json": {
       "model_id": "",
       "version_major": 2,
       "version_minor": 0
      },
      "text/plain": [
       "HBox(children=(IntProgress(value=0, description='Epoch 55', layout=Layout(flex='2'), max=4093, style=ProgressS…"
      ]
     },
     "metadata": {},
     "output_type": "display_data"
    },
    {
     "data": {
      "application/vnd.jupyter.widget-view+json": {
       "model_id": "",
       "version_major": 2,
       "version_minor": 0
      },
      "text/plain": [
       "HBox(children=(IntProgress(value=0, description='Epoch 56', layout=Layout(flex='2'), max=4093, style=ProgressS…"
      ]
     },
     "metadata": {},
     "output_type": "display_data"
    },
    {
     "data": {
      "application/vnd.jupyter.widget-view+json": {
       "model_id": "",
       "version_major": 2,
       "version_minor": 0
      },
      "text/plain": [
       "HBox(children=(IntProgress(value=0, description='Epoch 57', layout=Layout(flex='2'), max=4093, style=ProgressS…"
      ]
     },
     "metadata": {},
     "output_type": "display_data"
    },
    {
     "data": {
      "application/vnd.jupyter.widget-view+json": {
       "model_id": "",
       "version_major": 2,
       "version_minor": 0
      },
      "text/plain": [
       "HBox(children=(IntProgress(value=0, description='Epoch 58', layout=Layout(flex='2'), max=4093, style=ProgressS…"
      ]
     },
     "metadata": {},
     "output_type": "display_data"
    },
    {
     "data": {
      "application/vnd.jupyter.widget-view+json": {
       "model_id": "",
       "version_major": 2,
       "version_minor": 0
      },
      "text/plain": [
       "HBox(children=(IntProgress(value=0, description='Epoch 59', layout=Layout(flex='2'), max=4093, style=ProgressS…"
      ]
     },
     "metadata": {},
     "output_type": "display_data"
    },
    {
     "data": {
      "application/vnd.jupyter.widget-view+json": {
       "model_id": "",
       "version_major": 2,
       "version_minor": 0
      },
      "text/plain": [
       "HBox(children=(IntProgress(value=0, description='Epoch 60', layout=Layout(flex='2'), max=4093, style=ProgressS…"
      ]
     },
     "metadata": {},
     "output_type": "display_data"
    },
    {
     "data": {
      "application/vnd.jupyter.widget-view+json": {
       "model_id": "",
       "version_major": 2,
       "version_minor": 0
      },
      "text/plain": [
       "HBox(children=(IntProgress(value=0, description='Epoch 61', layout=Layout(flex='2'), max=4093, style=ProgressS…"
      ]
     },
     "metadata": {},
     "output_type": "display_data"
    },
    {
     "data": {
      "application/vnd.jupyter.widget-view+json": {
       "model_id": "",
       "version_major": 2,
       "version_minor": 0
      },
      "text/plain": [
       "HBox(children=(IntProgress(value=0, description='Epoch 62', layout=Layout(flex='2'), max=4093, style=ProgressS…"
      ]
     },
     "metadata": {},
     "output_type": "display_data"
    },
    {
     "data": {
      "application/vnd.jupyter.widget-view+json": {
       "model_id": "",
       "version_major": 2,
       "version_minor": 0
      },
      "text/plain": [
       "HBox(children=(IntProgress(value=0, description='Epoch 63', layout=Layout(flex='2'), max=4093, style=ProgressS…"
      ]
     },
     "metadata": {},
     "output_type": "display_data"
    },
    {
     "data": {
      "application/vnd.jupyter.widget-view+json": {
       "model_id": "",
       "version_major": 2,
       "version_minor": 0
      },
      "text/plain": [
       "HBox(children=(IntProgress(value=0, description='Epoch 64', layout=Layout(flex='2'), max=4093, style=ProgressS…"
      ]
     },
     "metadata": {},
     "output_type": "display_data"
    },
    {
     "data": {
      "application/vnd.jupyter.widget-view+json": {
       "model_id": "",
       "version_major": 2,
       "version_minor": 0
      },
      "text/plain": [
       "HBox(children=(IntProgress(value=0, description='Epoch 65', layout=Layout(flex='2'), max=4093, style=ProgressS…"
      ]
     },
     "metadata": {},
     "output_type": "display_data"
    },
    {
     "data": {
      "application/vnd.jupyter.widget-view+json": {
       "model_id": "",
       "version_major": 2,
       "version_minor": 0
      },
      "text/plain": [
       "HBox(children=(IntProgress(value=0, description='Epoch 66', layout=Layout(flex='2'), max=4093, style=ProgressS…"
      ]
     },
     "metadata": {},
     "output_type": "display_data"
    },
    {
     "data": {
      "application/vnd.jupyter.widget-view+json": {
       "model_id": "",
       "version_major": 2,
       "version_minor": 0
      },
      "text/plain": [
       "HBox(children=(IntProgress(value=0, description='Epoch 67', layout=Layout(flex='2'), max=4093, style=ProgressS…"
      ]
     },
     "metadata": {},
     "output_type": "display_data"
    },
    {
     "data": {
      "application/vnd.jupyter.widget-view+json": {
       "model_id": "",
       "version_major": 2,
       "version_minor": 0
      },
      "text/plain": [
       "HBox(children=(IntProgress(value=0, description='Epoch 68', layout=Layout(flex='2'), max=4093, style=ProgressS…"
      ]
     },
     "metadata": {},
     "output_type": "display_data"
    },
    {
     "data": {
      "application/vnd.jupyter.widget-view+json": {
       "model_id": "",
       "version_major": 2,
       "version_minor": 0
      },
      "text/plain": [
       "HBox(children=(IntProgress(value=0, description='Epoch 69', layout=Layout(flex='2'), max=4093, style=ProgressS…"
      ]
     },
     "metadata": {},
     "output_type": "display_data"
    },
    {
     "data": {
      "application/vnd.jupyter.widget-view+json": {
       "model_id": "",
       "version_major": 2,
       "version_minor": 0
      },
      "text/plain": [
       "HBox(children=(IntProgress(value=0, description='Epoch 70', layout=Layout(flex='2'), max=4093, style=ProgressS…"
      ]
     },
     "metadata": {},
     "output_type": "display_data"
    },
    {
     "data": {
      "application/vnd.jupyter.widget-view+json": {
       "model_id": "",
       "version_major": 2,
       "version_minor": 0
      },
      "text/plain": [
       "HBox(children=(IntProgress(value=0, description='Epoch 71', layout=Layout(flex='2'), max=4093, style=ProgressS…"
      ]
     },
     "metadata": {},
     "output_type": "display_data"
    },
    {
     "data": {
      "application/vnd.jupyter.widget-view+json": {
       "model_id": "",
       "version_major": 2,
       "version_minor": 0
      },
      "text/plain": [
       "HBox(children=(IntProgress(value=0, description='Epoch 72', layout=Layout(flex='2'), max=4093, style=ProgressS…"
      ]
     },
     "metadata": {},
     "output_type": "display_data"
    },
    {
     "data": {
      "application/vnd.jupyter.widget-view+json": {
       "model_id": "",
       "version_major": 2,
       "version_minor": 0
      },
      "text/plain": [
       "HBox(children=(IntProgress(value=0, description='Epoch 73', layout=Layout(flex='2'), max=4093, style=ProgressS…"
      ]
     },
     "metadata": {},
     "output_type": "display_data"
    },
    {
     "data": {
      "application/vnd.jupyter.widget-view+json": {
       "model_id": "",
       "version_major": 2,
       "version_minor": 0
      },
      "text/plain": [
       "HBox(children=(IntProgress(value=0, description='Epoch 74', layout=Layout(flex='2'), max=4093, style=ProgressS…"
      ]
     },
     "metadata": {},
     "output_type": "display_data"
    },
    {
     "data": {
      "application/vnd.jupyter.widget-view+json": {
       "model_id": "",
       "version_major": 2,
       "version_minor": 0
      },
      "text/plain": [
       "HBox(children=(IntProgress(value=0, description='Epoch 75', layout=Layout(flex='2'), max=4093, style=ProgressS…"
      ]
     },
     "metadata": {},
     "output_type": "display_data"
    },
    {
     "data": {
      "application/vnd.jupyter.widget-view+json": {
       "model_id": "",
       "version_major": 2,
       "version_minor": 0
      },
      "text/plain": [
       "HBox(children=(IntProgress(value=0, description='Epoch 76', layout=Layout(flex='2'), max=4093, style=ProgressS…"
      ]
     },
     "metadata": {},
     "output_type": "display_data"
    },
    {
     "data": {
      "application/vnd.jupyter.widget-view+json": {
       "model_id": "",
       "version_major": 2,
       "version_minor": 0
      },
      "text/plain": [
       "HBox(children=(IntProgress(value=0, description='Epoch 77', layout=Layout(flex='2'), max=4093, style=ProgressS…"
      ]
     },
     "metadata": {},
     "output_type": "display_data"
    },
    {
     "data": {
      "application/vnd.jupyter.widget-view+json": {
       "model_id": "",
       "version_major": 2,
       "version_minor": 0
      },
      "text/plain": [
       "HBox(children=(IntProgress(value=0, description='Epoch 78', layout=Layout(flex='2'), max=4093, style=ProgressS…"
      ]
     },
     "metadata": {},
     "output_type": "display_data"
    },
    {
     "data": {
      "application/vnd.jupyter.widget-view+json": {
       "model_id": "",
       "version_major": 2,
       "version_minor": 0
      },
      "text/plain": [
       "HBox(children=(IntProgress(value=0, description='Epoch 79', layout=Layout(flex='2'), max=4093, style=ProgressS…"
      ]
     },
     "metadata": {},
     "output_type": "display_data"
    },
    {
     "data": {
      "application/vnd.jupyter.widget-view+json": {
       "model_id": "",
       "version_major": 2,
       "version_minor": 0
      },
      "text/plain": [
       "HBox(children=(IntProgress(value=0, description='Epoch 80', layout=Layout(flex='2'), max=4093, style=ProgressS…"
      ]
     },
     "metadata": {},
     "output_type": "display_data"
    },
    {
     "data": {
      "application/vnd.jupyter.widget-view+json": {
       "model_id": "",
       "version_major": 2,
       "version_minor": 0
      },
      "text/plain": [
       "HBox(children=(IntProgress(value=0, description='Epoch 81', layout=Layout(flex='2'), max=4093, style=ProgressS…"
      ]
     },
     "metadata": {},
     "output_type": "display_data"
    },
    {
     "data": {
      "application/vnd.jupyter.widget-view+json": {
       "model_id": "",
       "version_major": 2,
       "version_minor": 0
      },
      "text/plain": [
       "HBox(children=(IntProgress(value=0, description='Epoch 82', layout=Layout(flex='2'), max=4093, style=ProgressS…"
      ]
     },
     "metadata": {},
     "output_type": "display_data"
    },
    {
     "data": {
      "application/vnd.jupyter.widget-view+json": {
       "model_id": "",
       "version_major": 2,
       "version_minor": 0
      },
      "text/plain": [
       "HBox(children=(IntProgress(value=0, description='Epoch 83', layout=Layout(flex='2'), max=4093, style=ProgressS…"
      ]
     },
     "metadata": {},
     "output_type": "display_data"
    },
    {
     "data": {
      "application/vnd.jupyter.widget-view+json": {
       "model_id": "",
       "version_major": 2,
       "version_minor": 0
      },
      "text/plain": [
       "HBox(children=(IntProgress(value=0, description='Epoch 84', layout=Layout(flex='2'), max=4093, style=ProgressS…"
      ]
     },
     "metadata": {},
     "output_type": "display_data"
    },
    {
     "data": {
      "application/vnd.jupyter.widget-view+json": {
       "model_id": "",
       "version_major": 2,
       "version_minor": 0
      },
      "text/plain": [
       "HBox(children=(IntProgress(value=0, description='Epoch 85', layout=Layout(flex='2'), max=4093, style=ProgressS…"
      ]
     },
     "metadata": {},
     "output_type": "display_data"
    },
    {
     "data": {
      "application/vnd.jupyter.widget-view+json": {
       "model_id": "",
       "version_major": 2,
       "version_minor": 0
      },
      "text/plain": [
       "HBox(children=(IntProgress(value=0, description='Epoch 86', layout=Layout(flex='2'), max=4093, style=ProgressS…"
      ]
     },
     "metadata": {},
     "output_type": "display_data"
    },
    {
     "data": {
      "application/vnd.jupyter.widget-view+json": {
       "model_id": "",
       "version_major": 2,
       "version_minor": 0
      },
      "text/plain": [
       "HBox(children=(IntProgress(value=0, description='Epoch 87', layout=Layout(flex='2'), max=4093, style=ProgressS…"
      ]
     },
     "metadata": {},
     "output_type": "display_data"
    },
    {
     "data": {
      "application/vnd.jupyter.widget-view+json": {
       "model_id": "",
       "version_major": 2,
       "version_minor": 0
      },
      "text/plain": [
       "HBox(children=(IntProgress(value=0, description='Epoch 88', layout=Layout(flex='2'), max=4093, style=ProgressS…"
      ]
     },
     "metadata": {},
     "output_type": "display_data"
    },
    {
     "data": {
      "application/vnd.jupyter.widget-view+json": {
       "model_id": "",
       "version_major": 2,
       "version_minor": 0
      },
      "text/plain": [
       "HBox(children=(IntProgress(value=0, description='Epoch 89', layout=Layout(flex='2'), max=4093, style=ProgressS…"
      ]
     },
     "metadata": {},
     "output_type": "display_data"
    },
    {
     "data": {
      "application/vnd.jupyter.widget-view+json": {
       "model_id": "",
       "version_major": 2,
       "version_minor": 0
      },
      "text/plain": [
       "HBox(children=(IntProgress(value=0, description='Epoch 90', layout=Layout(flex='2'), max=4093, style=ProgressS…"
      ]
     },
     "metadata": {},
     "output_type": "display_data"
    },
    {
     "data": {
      "application/vnd.jupyter.widget-view+json": {
       "model_id": "",
       "version_major": 2,
       "version_minor": 0
      },
      "text/plain": [
       "HBox(children=(IntProgress(value=0, description='Epoch 91', layout=Layout(flex='2'), max=4093, style=ProgressS…"
      ]
     },
     "metadata": {},
     "output_type": "display_data"
    },
    {
     "data": {
      "application/vnd.jupyter.widget-view+json": {
       "model_id": "",
       "version_major": 2,
       "version_minor": 0
      },
      "text/plain": [
       "HBox(children=(IntProgress(value=0, description='Epoch 92', layout=Layout(flex='2'), max=4093, style=ProgressS…"
      ]
     },
     "metadata": {},
     "output_type": "display_data"
    },
    {
     "data": {
      "application/vnd.jupyter.widget-view+json": {
       "model_id": "",
       "version_major": 2,
       "version_minor": 0
      },
      "text/plain": [
       "HBox(children=(IntProgress(value=0, description='Epoch 93', layout=Layout(flex='2'), max=4093, style=ProgressS…"
      ]
     },
     "metadata": {},
     "output_type": "display_data"
    },
    {
     "data": {
      "application/vnd.jupyter.widget-view+json": {
       "model_id": "",
       "version_major": 2,
       "version_minor": 0
      },
      "text/plain": [
       "HBox(children=(IntProgress(value=0, description='Epoch 94', layout=Layout(flex='2'), max=4093, style=ProgressS…"
      ]
     },
     "metadata": {},
     "output_type": "display_data"
    },
    {
     "data": {
      "application/vnd.jupyter.widget-view+json": {
       "model_id": "",
       "version_major": 2,
       "version_minor": 0
      },
      "text/plain": [
       "HBox(children=(IntProgress(value=0, description='Epoch 95', layout=Layout(flex='2'), max=4093, style=ProgressS…"
      ]
     },
     "metadata": {},
     "output_type": "display_data"
    },
    {
     "data": {
      "application/vnd.jupyter.widget-view+json": {
       "model_id": "",
       "version_major": 2,
       "version_minor": 0
      },
      "text/plain": [
       "HBox(children=(IntProgress(value=0, description='Epoch 96', layout=Layout(flex='2'), max=4093, style=ProgressS…"
      ]
     },
     "metadata": {},
     "output_type": "display_data"
    },
    {
     "data": {
      "application/vnd.jupyter.widget-view+json": {
       "model_id": "",
       "version_major": 2,
       "version_minor": 0
      },
      "text/plain": [
       "HBox(children=(IntProgress(value=0, description='Epoch 97', layout=Layout(flex='2'), max=4093, style=ProgressS…"
      ]
     },
     "metadata": {},
     "output_type": "display_data"
    },
    {
     "data": {
      "application/vnd.jupyter.widget-view+json": {
       "model_id": "",
       "version_major": 2,
       "version_minor": 0
      },
      "text/plain": [
       "HBox(children=(IntProgress(value=0, description='Epoch 98', layout=Layout(flex='2'), max=4093, style=ProgressS…"
      ]
     },
     "metadata": {},
     "output_type": "display_data"
    },
    {
     "data": {
      "application/vnd.jupyter.widget-view+json": {
       "model_id": "",
       "version_major": 2,
       "version_minor": 0
      },
      "text/plain": [
       "HBox(children=(IntProgress(value=0, description='Epoch 99', layout=Layout(flex='2'), max=4093, style=ProgressS…"
      ]
     },
     "metadata": {},
     "output_type": "display_data"
    },
    {
     "data": {
      "application/vnd.jupyter.widget-view+json": {
       "model_id": "",
       "version_major": 2,
       "version_minor": 0
      },
      "text/plain": [
       "HBox(children=(IntProgress(value=0, description='Epoch 100', layout=Layout(flex='2'), max=4093, style=Progress…"
      ]
     },
     "metadata": {},
     "output_type": "display_data"
    },
    {
     "data": {
      "application/vnd.jupyter.widget-view+json": {
       "model_id": "",
       "version_major": 2,
       "version_minor": 0
      },
      "text/plain": [
       "HBox(children=(IntProgress(value=0, description='Epoch 101', layout=Layout(flex='2'), max=4093, style=Progress…"
      ]
     },
     "metadata": {},
     "output_type": "display_data"
    },
    {
     "data": {
      "application/vnd.jupyter.widget-view+json": {
       "model_id": "",
       "version_major": 2,
       "version_minor": 0
      },
      "text/plain": [
       "HBox(children=(IntProgress(value=0, description='Epoch 102', layout=Layout(flex='2'), max=4093, style=Progress…"
      ]
     },
     "metadata": {},
     "output_type": "display_data"
    },
    {
     "data": {
      "application/vnd.jupyter.widget-view+json": {
       "model_id": "",
       "version_major": 2,
       "version_minor": 0
      },
      "text/plain": [
       "HBox(children=(IntProgress(value=0, description='Epoch 103', layout=Layout(flex='2'), max=4093, style=Progress…"
      ]
     },
     "metadata": {},
     "output_type": "display_data"
    },
    {
     "data": {
      "application/vnd.jupyter.widget-view+json": {
       "model_id": "",
       "version_major": 2,
       "version_minor": 0
      },
      "text/plain": [
       "HBox(children=(IntProgress(value=0, description='Epoch 104', layout=Layout(flex='2'), max=4093, style=Progress…"
      ]
     },
     "metadata": {},
     "output_type": "display_data"
    },
    {
     "data": {
      "application/vnd.jupyter.widget-view+json": {
       "model_id": "",
       "version_major": 2,
       "version_minor": 0
      },
      "text/plain": [
       "HBox(children=(IntProgress(value=0, description='Epoch 105', layout=Layout(flex='2'), max=4093, style=Progress…"
      ]
     },
     "metadata": {},
     "output_type": "display_data"
    },
    {
     "data": {
      "application/vnd.jupyter.widget-view+json": {
       "model_id": "",
       "version_major": 2,
       "version_minor": 0
      },
      "text/plain": [
       "HBox(children=(IntProgress(value=0, description='Epoch 106', layout=Layout(flex='2'), max=4093, style=Progress…"
      ]
     },
     "metadata": {},
     "output_type": "display_data"
    },
    {
     "data": {
      "application/vnd.jupyter.widget-view+json": {
       "model_id": "",
       "version_major": 2,
       "version_minor": 0
      },
      "text/plain": [
       "HBox(children=(IntProgress(value=0, description='Epoch 107', layout=Layout(flex='2'), max=4093, style=Progress…"
      ]
     },
     "metadata": {},
     "output_type": "display_data"
    },
    {
     "data": {
      "application/vnd.jupyter.widget-view+json": {
       "model_id": "",
       "version_major": 2,
       "version_minor": 0
      },
      "text/plain": [
       "HBox(children=(IntProgress(value=0, description='Epoch 108', layout=Layout(flex='2'), max=4093, style=Progress…"
      ]
     },
     "metadata": {},
     "output_type": "display_data"
    },
    {
     "data": {
      "application/vnd.jupyter.widget-view+json": {
       "model_id": "",
       "version_major": 2,
       "version_minor": 0
      },
      "text/plain": [
       "HBox(children=(IntProgress(value=0, description='Epoch 109', layout=Layout(flex='2'), max=4093, style=Progress…"
      ]
     },
     "metadata": {},
     "output_type": "display_data"
    },
    {
     "data": {
      "application/vnd.jupyter.widget-view+json": {
       "model_id": "",
       "version_major": 2,
       "version_minor": 0
      },
      "text/plain": [
       "HBox(children=(IntProgress(value=0, description='Epoch 110', layout=Layout(flex='2'), max=4093, style=Progress…"
      ]
     },
     "metadata": {},
     "output_type": "display_data"
    },
    {
     "data": {
      "application/vnd.jupyter.widget-view+json": {
       "model_id": "",
       "version_major": 2,
       "version_minor": 0
      },
      "text/plain": [
       "HBox(children=(IntProgress(value=0, description='Epoch 111', layout=Layout(flex='2'), max=4093, style=Progress…"
      ]
     },
     "metadata": {},
     "output_type": "display_data"
    },
    {
     "data": {
      "application/vnd.jupyter.widget-view+json": {
       "model_id": "",
       "version_major": 2,
       "version_minor": 0
      },
      "text/plain": [
       "HBox(children=(IntProgress(value=0, description='Epoch 112', layout=Layout(flex='2'), max=4093, style=Progress…"
      ]
     },
     "metadata": {},
     "output_type": "display_data"
    },
    {
     "data": {
      "application/vnd.jupyter.widget-view+json": {
       "model_id": "",
       "version_major": 2,
       "version_minor": 0
      },
      "text/plain": [
       "HBox(children=(IntProgress(value=0, description='Epoch 113', layout=Layout(flex='2'), max=4093, style=Progress…"
      ]
     },
     "metadata": {},
     "output_type": "display_data"
    },
    {
     "data": {
      "application/vnd.jupyter.widget-view+json": {
       "model_id": "",
       "version_major": 2,
       "version_minor": 0
      },
      "text/plain": [
       "HBox(children=(IntProgress(value=0, description='Epoch 114', layout=Layout(flex='2'), max=4093, style=Progress…"
      ]
     },
     "metadata": {},
     "output_type": "display_data"
    },
    {
     "data": {
      "application/vnd.jupyter.widget-view+json": {
       "model_id": "",
       "version_major": 2,
       "version_minor": 0
      },
      "text/plain": [
       "HBox(children=(IntProgress(value=0, description='Epoch 115', layout=Layout(flex='2'), max=4093, style=Progress…"
      ]
     },
     "metadata": {},
     "output_type": "display_data"
    },
    {
     "data": {
      "application/vnd.jupyter.widget-view+json": {
       "model_id": "",
       "version_major": 2,
       "version_minor": 0
      },
      "text/plain": [
       "HBox(children=(IntProgress(value=0, description='Epoch 116', layout=Layout(flex='2'), max=4093, style=Progress…"
      ]
     },
     "metadata": {},
     "output_type": "display_data"
    },
    {
     "data": {
      "application/vnd.jupyter.widget-view+json": {
       "model_id": "",
       "version_major": 2,
       "version_minor": 0
      },
      "text/plain": [
       "HBox(children=(IntProgress(value=0, description='Epoch 117', layout=Layout(flex='2'), max=4093, style=Progress…"
      ]
     },
     "metadata": {},
     "output_type": "display_data"
    },
    {
     "data": {
      "application/vnd.jupyter.widget-view+json": {
       "model_id": "",
       "version_major": 2,
       "version_minor": 0
      },
      "text/plain": [
       "HBox(children=(IntProgress(value=0, description='Epoch 118', layout=Layout(flex='2'), max=4093, style=Progress…"
      ]
     },
     "metadata": {},
     "output_type": "display_data"
    },
    {
     "data": {
      "application/vnd.jupyter.widget-view+json": {
       "model_id": "",
       "version_major": 2,
       "version_minor": 0
      },
      "text/plain": [
       "HBox(children=(IntProgress(value=0, description='Epoch 119', layout=Layout(flex='2'), max=4093, style=Progress…"
      ]
     },
     "metadata": {},
     "output_type": "display_data"
    },
    {
     "data": {
      "application/vnd.jupyter.widget-view+json": {
       "model_id": "",
       "version_major": 2,
       "version_minor": 0
      },
      "text/plain": [
       "HBox(children=(IntProgress(value=0, description='Epoch 120', layout=Layout(flex='2'), max=4093, style=Progress…"
      ]
     },
     "metadata": {},
     "output_type": "display_data"
    },
    {
     "data": {
      "application/vnd.jupyter.widget-view+json": {
       "model_id": "",
       "version_major": 2,
       "version_minor": 0
      },
      "text/plain": [
       "HBox(children=(IntProgress(value=0, description='Epoch 121', layout=Layout(flex='2'), max=4093, style=Progress…"
      ]
     },
     "metadata": {},
     "output_type": "display_data"
    },
    {
     "data": {
      "application/vnd.jupyter.widget-view+json": {
       "model_id": "",
       "version_major": 2,
       "version_minor": 0
      },
      "text/plain": [
       "HBox(children=(IntProgress(value=0, description='Epoch 122', layout=Layout(flex='2'), max=4093, style=Progress…"
      ]
     },
     "metadata": {},
     "output_type": "display_data"
    },
    {
     "data": {
      "application/vnd.jupyter.widget-view+json": {
       "model_id": "",
       "version_major": 2,
       "version_minor": 0
      },
      "text/plain": [
       "HBox(children=(IntProgress(value=0, description='Epoch 123', layout=Layout(flex='2'), max=4093, style=Progress…"
      ]
     },
     "metadata": {},
     "output_type": "display_data"
    },
    {
     "data": {
      "application/vnd.jupyter.widget-view+json": {
       "model_id": "",
       "version_major": 2,
       "version_minor": 0
      },
      "text/plain": [
       "HBox(children=(IntProgress(value=0, description='Epoch 124', layout=Layout(flex='2'), max=4093, style=Progress…"
      ]
     },
     "metadata": {},
     "output_type": "display_data"
    },
    {
     "data": {
      "application/vnd.jupyter.widget-view+json": {
       "model_id": "",
       "version_major": 2,
       "version_minor": 0
      },
      "text/plain": [
       "HBox(children=(IntProgress(value=0, description='Epoch 125', layout=Layout(flex='2'), max=4093, style=Progress…"
      ]
     },
     "metadata": {},
     "output_type": "display_data"
    },
    {
     "data": {
      "application/vnd.jupyter.widget-view+json": {
       "model_id": "",
       "version_major": 2,
       "version_minor": 0
      },
      "text/plain": [
       "HBox(children=(IntProgress(value=0, description='Epoch 126', layout=Layout(flex='2'), max=4093, style=Progress…"
      ]
     },
     "metadata": {},
     "output_type": "display_data"
    },
    {
     "data": {
      "application/vnd.jupyter.widget-view+json": {
       "model_id": "",
       "version_major": 2,
       "version_minor": 0
      },
      "text/plain": [
       "HBox(children=(IntProgress(value=0, description='Epoch 127', layout=Layout(flex='2'), max=4093, style=Progress…"
      ]
     },
     "metadata": {},
     "output_type": "display_data"
    },
    {
     "data": {
      "application/vnd.jupyter.widget-view+json": {
       "model_id": "",
       "version_major": 2,
       "version_minor": 0
      },
      "text/plain": [
       "HBox(children=(IntProgress(value=0, description='Epoch 128', layout=Layout(flex='2'), max=4093, style=Progress…"
      ]
     },
     "metadata": {},
     "output_type": "display_data"
    },
    {
     "data": {
      "application/vnd.jupyter.widget-view+json": {
       "model_id": "",
       "version_major": 2,
       "version_minor": 0
      },
      "text/plain": [
       "HBox(children=(IntProgress(value=0, description='Epoch 129', layout=Layout(flex='2'), max=4093, style=Progress…"
      ]
     },
     "metadata": {},
     "output_type": "display_data"
    },
    {
     "data": {
      "application/vnd.jupyter.widget-view+json": {
       "model_id": "",
       "version_major": 2,
       "version_minor": 0
      },
      "text/plain": [
       "HBox(children=(IntProgress(value=0, description='Epoch 130', layout=Layout(flex='2'), max=4093, style=Progress…"
      ]
     },
     "metadata": {},
     "output_type": "display_data"
    },
    {
     "data": {
      "application/vnd.jupyter.widget-view+json": {
       "model_id": "",
       "version_major": 2,
       "version_minor": 0
      },
      "text/plain": [
       "HBox(children=(IntProgress(value=0, description='Epoch 131', layout=Layout(flex='2'), max=4093, style=Progress…"
      ]
     },
     "metadata": {},
     "output_type": "display_data"
    },
    {
     "data": {
      "application/vnd.jupyter.widget-view+json": {
       "model_id": "",
       "version_major": 2,
       "version_minor": 0
      },
      "text/plain": [
       "HBox(children=(IntProgress(value=0, description='Epoch 132', layout=Layout(flex='2'), max=4093, style=Progress…"
      ]
     },
     "metadata": {},
     "output_type": "display_data"
    },
    {
     "data": {
      "application/vnd.jupyter.widget-view+json": {
       "model_id": "",
       "version_major": 2,
       "version_minor": 0
      },
      "text/plain": [
       "HBox(children=(IntProgress(value=0, description='Epoch 133', layout=Layout(flex='2'), max=4093, style=Progress…"
      ]
     },
     "metadata": {},
     "output_type": "display_data"
    },
    {
     "data": {
      "application/vnd.jupyter.widget-view+json": {
       "model_id": "",
       "version_major": 2,
       "version_minor": 0
      },
      "text/plain": [
       "HBox(children=(IntProgress(value=0, description='Epoch 134', layout=Layout(flex='2'), max=4093, style=Progress…"
      ]
     },
     "metadata": {},
     "output_type": "display_data"
    },
    {
     "data": {
      "application/vnd.jupyter.widget-view+json": {
       "model_id": "",
       "version_major": 2,
       "version_minor": 0
      },
      "text/plain": [
       "HBox(children=(IntProgress(value=0, description='Epoch 135', layout=Layout(flex='2'), max=4093, style=Progress…"
      ]
     },
     "metadata": {},
     "output_type": "display_data"
    },
    {
     "data": {
      "application/vnd.jupyter.widget-view+json": {
       "model_id": "",
       "version_major": 2,
       "version_minor": 0
      },
      "text/plain": [
       "HBox(children=(IntProgress(value=0, description='Epoch 136', layout=Layout(flex='2'), max=4093, style=Progress…"
      ]
     },
     "metadata": {},
     "output_type": "display_data"
    },
    {
     "data": {
      "application/vnd.jupyter.widget-view+json": {
       "model_id": "",
       "version_major": 2,
       "version_minor": 0
      },
      "text/plain": [
       "HBox(children=(IntProgress(value=0, description='Epoch 137', layout=Layout(flex='2'), max=4093, style=Progress…"
      ]
     },
     "metadata": {},
     "output_type": "display_data"
    },
    {
     "data": {
      "application/vnd.jupyter.widget-view+json": {
       "model_id": "",
       "version_major": 2,
       "version_minor": 0
      },
      "text/plain": [
       "HBox(children=(IntProgress(value=0, description='Epoch 138', layout=Layout(flex='2'), max=4093, style=Progress…"
      ]
     },
     "metadata": {},
     "output_type": "display_data"
    },
    {
     "data": {
      "application/vnd.jupyter.widget-view+json": {
       "model_id": "",
       "version_major": 2,
       "version_minor": 0
      },
      "text/plain": [
       "HBox(children=(IntProgress(value=0, description='Epoch 139', layout=Layout(flex='2'), max=4093, style=Progress…"
      ]
     },
     "metadata": {},
     "output_type": "display_data"
    },
    {
     "data": {
      "application/vnd.jupyter.widget-view+json": {
       "model_id": "",
       "version_major": 2,
       "version_minor": 0
      },
      "text/plain": [
       "HBox(children=(IntProgress(value=0, description='Epoch 140', layout=Layout(flex='2'), max=4093, style=Progress…"
      ]
     },
     "metadata": {},
     "output_type": "display_data"
    },
    {
     "name": "stdout",
     "output_type": "stream",
     "text": [
      "\n"
     ]
    }
   ],
   "source": [
    "cnn_history = cnn.fit(\n",
    "    seq_train, class_train,\n",
    "    epochs=200,\n",
    "    shuffle=True,\n",
    "    batch_size=1000,\n",
    "    verbose=0,\n",
    "    validation_data=(seq_test, class_test),\n",
    "    callbacks=[\n",
    "        ktqdm(),\n",
    "        EarlyStopping(\n",
    "            monitor=\"auprc\",\n",
    "            min_delta=0.001,\n",
    "            patience=20,\n",
    "            mode=\"max\",\n",
    "            restore_best_weights=True\n",
    "        )\n",
    "    ]\n",
    ").history"
   ]
  },
  {
   "cell_type": "code",
   "execution_count": 22,
   "metadata": {},
   "outputs": [
    {
     "data": {
      "image/png": "[encoded data removed]",
      "text/plain": [
       "<Figure size 1080x360 with 3 Axes>"
      ]
     },
     "metadata": {
      "needs_background": "light"
     },
     "output_type": "display_data"
    }
   ],
   "source": [
    "plot_history(cnn_history)\n",
    "plt.show()"
   ]
  }
 ],
 "metadata": {
  "kernelspec": {
   "display_name": "Python 3",
   "language": "python",
   "name": "python3"
  },
  "language_info": {
   "codemirror_mode": {
    "name": "ipython",
    "version": 3
   },
   "file_extension": ".py",
   "mimetype": "text/x-python",
   "name": "python",
   "nbconvert_exporter": "python",
   "pygments_lexer": "ipython3",
   "version": "3.7.1"
  }
 },
 "nbformat": 4,
 "nbformat_minor": 2
}
